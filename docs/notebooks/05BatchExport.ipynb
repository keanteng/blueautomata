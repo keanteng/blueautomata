{
 "cells": [
  {
   "cell_type": "markdown",
   "metadata": {},
   "source": [
    "## Class `BatchExport` \n",
    "A notebook to showcase the usage of `BatchExport` class"
   ]
  },
  {
   "cell_type": "code",
   "execution_count": null,
   "metadata": {},
   "outputs": [],
   "source": [
    "# import the class\n",
    "from blueautomata.batch_export import BatchExport"
   ]
  },
  {
   "cell_type": "code",
   "execution_count": null,
   "metadata": {},
   "outputs": [],
   "source": [
    "df = pd.read_excel('data/output.xlsx')\n",
    "\n",
    "temp = BatchExport(\n",
    "    destination='data/dept',\n",
    "    masterlist= df,\n",
    ")\n",
    "\n",
    "temp.batch_export()"
   ]
  }
 ],
 "metadata": {
  "language_info": {
   "name": "python"
  },
  "orig_nbformat": 4
 },
 "nbformat": 4,
 "nbformat_minor": 2
}
