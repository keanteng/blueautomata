{
 "cells": [
  {
   "cell_type": "markdown",
   "metadata": {},
   "source": [
    "# Package Pilot Testing\n",
    "A full pilot experiment will be conducted on two sets of data to test the package performance and accuracy\n",
    "- `rawdata` folder which contains the actual data and will not be disclosed\n",
    "- `data` folder which contains fake data and will be used for documentation purpose"
   ]
  },
  {
   "cell_type": "markdown",
   "metadata": {},
   "source": [
    "# 1. Real Data Pilot Experiment"
   ]
  },
  {
   "cell_type": "markdown",
   "metadata": {},
   "source": [
    "## 1.1 Blue Automata With `automata_execution`"
   ]
  },
  {
   "cell_type": "code",
   "execution_count": 2,
   "metadata": {},
   "outputs": [
    {
     "data": {
      "text/html": [
       "<div>\n",
       "<style scoped>\n",
       "    .dataframe tbody tr th:only-of-type {\n",
       "        vertical-align: middle;\n",
       "    }\n",
       "\n",
       "    .dataframe tbody tr th {\n",
       "        vertical-align: top;\n",
       "    }\n",
       "\n",
       "    .dataframe thead th {\n",
       "        text-align: right;\n",
       "    }\n",
       "</style>\n",
       "<table border=\"1\" class=\"dataframe\">\n",
       "  <thead>\n",
       "    <tr style=\"text-align: right;\">\n",
       "      <th></th>\n",
       "      <th>Department</th>\n",
       "      <th>Dept</th>\n",
       "      <th>User ID</th>\n",
       "      <th>Name</th>\n",
       "      <th>System1</th>\n",
       "      <th>Cube</th>\n",
       "    </tr>\n",
       "  </thead>\n",
       "  <tbody>\n",
       "    <tr>\n",
       "      <th>0</th>\n",
       "      <td>Jabatan Pengurusan Data dan Statistik</td>\n",
       "      <td>JPS</td>\n",
       "      <td>sskila</td>\n",
       "      <td>Roshakila binti Ahmad</td>\n",
       "      <td>NAPIC</td>\n",
       "      <td>None</td>\n",
       "    </tr>\n",
       "    <tr>\n",
       "      <th>1</th>\n",
       "      <td>Jabatan Pengurusan Data dan Statistik</td>\n",
       "      <td>JPS</td>\n",
       "      <td>sshocc</td>\n",
       "      <td>Dr. Ho Chiung Ching</td>\n",
       "      <td>NAPIC</td>\n",
       "      <td>None</td>\n",
       "    </tr>\n",
       "    <tr>\n",
       "      <th>2</th>\n",
       "      <td>Jabatan Rangkuman Kewangan</td>\n",
       "      <td>FID</td>\n",
       "      <td>desharul</td>\n",
       "      <td>Shahrul Fitri bin Shafii</td>\n",
       "      <td>NAPIC</td>\n",
       "      <td>None</td>\n",
       "    </tr>\n",
       "    <tr>\n",
       "      <th>3</th>\n",
       "      <td>Jabatan Pengurusan Data dan Statistik</td>\n",
       "      <td>JPS</td>\n",
       "      <td>sskila</td>\n",
       "      <td>Roshakila binti Ahmad</td>\n",
       "      <td>BSH-BPN</td>\n",
       "      <td>None</td>\n",
       "    </tr>\n",
       "    <tr>\n",
       "      <th>4</th>\n",
       "      <td>Jabatan Dasar Monetari</td>\n",
       "      <td>JDM</td>\n",
       "      <td>sseilyn</td>\n",
       "      <td>Eilyn Chong Yee Lin</td>\n",
       "      <td>BSH-BPN</td>\n",
       "      <td>None</td>\n",
       "    </tr>\n",
       "  </tbody>\n",
       "</table>\n",
       "</div>"
      ],
      "text/plain": [
       "                              Department Dept   User ID  \\\n",
       "0  Jabatan Pengurusan Data dan Statistik  JPS    sskila   \n",
       "1  Jabatan Pengurusan Data dan Statistik  JPS    sshocc   \n",
       "2             Jabatan Rangkuman Kewangan  FID  desharul   \n",
       "3  Jabatan Pengurusan Data dan Statistik  JPS    sskila   \n",
       "4                 Jabatan Dasar Monetari  JDM   sseilyn   \n",
       "\n",
       "                       Name  System1  Cube  \n",
       "0     Roshakila binti Ahmad    NAPIC  None  \n",
       "1       Dr. Ho Chiung Ching    NAPIC  None  \n",
       "2  Shahrul Fitri bin Shafii    NAPIC  None  \n",
       "3     Roshakila binti Ahmad  BSH-BPN  None  \n",
       "4       Eilyn Chong Yee Lin  BSH-BPN  None  "
      ]
     },
     "execution_count": 2,
     "metadata": {},
     "output_type": "execute_result"
    }
   ],
   "source": [
    "from blueautomata.data_compilation import BlueAutomata\n",
    "\n",
    "test = BlueAutomata(\n",
    "    folder_path=r\"C:\\Users\\Khor Kean Teng\\Downloads\\AUP Automata\\rawdata\",\n",
    "    checklist = 'rawdata/Department Checklist.xlsx',\n",
    "    staff_data = 'rawdata/stafflist.xlsx',\n",
    "    name_key= ['DP', 'INSIDES', 'SAS', 'STATSMART1', 'STATSMARTCUBE', 'CCRIS', 'ESSP',\n",
    "               'RBCIFAS', 'FEMS', 'TOSS', 'USERSBANKING','ADMIN'],\n",
    "    name_code= [1, 1, 1, 1, 1, 1, 1, 6, 10, 10, 10, 10],\n",
    ")\n",
    "df = test.automata_execution()\n",
    "df.head()"
   ]
  },
  {
   "cell_type": "code",
   "execution_count": 3,
   "metadata": {},
   "outputs": [
    {
     "data": {
      "text/plain": [
       "3964"
      ]
     },
     "execution_count": 3,
     "metadata": {},
     "output_type": "execute_result"
    }
   ],
   "source": [
    "# check the number of rows\n",
    "len(df)"
   ]
  },
  {
   "cell_type": "code",
   "execution_count": 3,
   "metadata": {},
   "outputs": [],
   "source": [
    "# export for further usage\n",
    "#df.to_excel('checklist.xlsx', index=False)"
   ]
  },
  {
   "cell_type": "markdown",
   "metadata": {},
   "source": [
    "## 1.2 AutomataReport With `automata_report_summary`"
   ]
  },
  {
   "cell_type": "code",
   "execution_count": 4,
   "metadata": {},
   "outputs": [
    {
     "data": {
      "text/html": [
       "<div>\n",
       "<style scoped>\n",
       "    .dataframe tbody tr th:only-of-type {\n",
       "        vertical-align: middle;\n",
       "    }\n",
       "\n",
       "    .dataframe tbody tr th {\n",
       "        vertical-align: top;\n",
       "    }\n",
       "\n",
       "    .dataframe thead th {\n",
       "        text-align: right;\n",
       "    }\n",
       "</style>\n",
       "<table border=\"1\" class=\"dataframe\">\n",
       "  <thead>\n",
       "    <tr style=\"text-align: right;\">\n",
       "      <th></th>\n",
       "      <th>System</th>\n",
       "      <th>Match IDs</th>\n",
       "      <th>Not Match IDs</th>\n",
       "      <th>Total IDs</th>\n",
       "    </tr>\n",
       "  </thead>\n",
       "  <tbody>\n",
       "    <tr>\n",
       "      <th>0</th>\n",
       "      <td>NAPIC</td>\n",
       "      <td>3</td>\n",
       "      <td>1</td>\n",
       "      <td>4</td>\n",
       "    </tr>\n",
       "    <tr>\n",
       "      <th>1</th>\n",
       "      <td>BSH-BPN</td>\n",
       "      <td>3</td>\n",
       "      <td>1</td>\n",
       "      <td>4</td>\n",
       "    </tr>\n",
       "    <tr>\n",
       "      <th>2</th>\n",
       "      <td>EPF</td>\n",
       "      <td>23</td>\n",
       "      <td>1</td>\n",
       "      <td>24</td>\n",
       "    </tr>\n",
       "    <tr>\n",
       "      <th>3</th>\n",
       "      <td>BR1M</td>\n",
       "      <td>5</td>\n",
       "      <td>1</td>\n",
       "      <td>6</td>\n",
       "    </tr>\n",
       "    <tr>\n",
       "      <th>4</th>\n",
       "      <td>HIES</td>\n",
       "      <td>11</td>\n",
       "      <td>3</td>\n",
       "      <td>14</td>\n",
       "    </tr>\n",
       "    <tr>\n",
       "      <th>5</th>\n",
       "      <td>CCRIS</td>\n",
       "      <td>18</td>\n",
       "      <td>1</td>\n",
       "      <td>19</td>\n",
       "    </tr>\n",
       "    <tr>\n",
       "      <th>6</th>\n",
       "      <td>DP</td>\n",
       "      <td>79</td>\n",
       "      <td>4</td>\n",
       "      <td>83</td>\n",
       "    </tr>\n",
       "    <tr>\n",
       "      <th>7</th>\n",
       "      <td>ESSP</td>\n",
       "      <td>48</td>\n",
       "      <td>4</td>\n",
       "      <td>52</td>\n",
       "    </tr>\n",
       "    <tr>\n",
       "      <th>8</th>\n",
       "      <td>FEMS</td>\n",
       "      <td>84</td>\n",
       "      <td>1</td>\n",
       "      <td>85</td>\n",
       "    </tr>\n",
       "    <tr>\n",
       "      <th>9</th>\n",
       "      <td>FEMS_MACRO1</td>\n",
       "      <td>63</td>\n",
       "      <td>0</td>\n",
       "      <td>63</td>\n",
       "    </tr>\n",
       "    <tr>\n",
       "      <th>10</th>\n",
       "      <td>FEMS_MACRO2</td>\n",
       "      <td>17</td>\n",
       "      <td>0</td>\n",
       "      <td>17</td>\n",
       "    </tr>\n",
       "    <tr>\n",
       "      <th>11</th>\n",
       "      <td>FEMS_JP3</td>\n",
       "      <td>71</td>\n",
       "      <td>3</td>\n",
       "      <td>74</td>\n",
       "    </tr>\n",
       "    <tr>\n",
       "      <th>12</th>\n",
       "      <td>INSIDES</td>\n",
       "      <td>114</td>\n",
       "      <td>10</td>\n",
       "      <td>124</td>\n",
       "    </tr>\n",
       "    <tr>\n",
       "      <th>13</th>\n",
       "      <td>RBC</td>\n",
       "      <td>148</td>\n",
       "      <td>7</td>\n",
       "      <td>155</td>\n",
       "    </tr>\n",
       "    <tr>\n",
       "      <th>14</th>\n",
       "      <td>IFAS</td>\n",
       "      <td>165</td>\n",
       "      <td>7</td>\n",
       "      <td>172</td>\n",
       "    </tr>\n",
       "    <tr>\n",
       "      <th>15</th>\n",
       "      <td>SASEG</td>\n",
       "      <td>78</td>\n",
       "      <td>5</td>\n",
       "      <td>83</td>\n",
       "    </tr>\n",
       "    <tr>\n",
       "      <th>16</th>\n",
       "      <td>SCRIBS</td>\n",
       "      <td>212</td>\n",
       "      <td>26</td>\n",
       "      <td>238</td>\n",
       "    </tr>\n",
       "    <tr>\n",
       "      <th>17</th>\n",
       "      <td>ISP</td>\n",
       "      <td>190</td>\n",
       "      <td>18</td>\n",
       "      <td>208</td>\n",
       "    </tr>\n",
       "    <tr>\n",
       "      <th>18</th>\n",
       "      <td>STATSMART</td>\n",
       "      <td>2159</td>\n",
       "      <td>153</td>\n",
       "      <td>2312</td>\n",
       "    </tr>\n",
       "    <tr>\n",
       "      <th>19</th>\n",
       "      <td>TOSS_SHAREDFOLDER</td>\n",
       "      <td>122</td>\n",
       "      <td>8</td>\n",
       "      <td>130</td>\n",
       "    </tr>\n",
       "    <tr>\n",
       "      <th>20</th>\n",
       "      <td>ICSS_IFAS_SHAREDFOLDER</td>\n",
       "      <td>159</td>\n",
       "      <td>3</td>\n",
       "      <td>162</td>\n",
       "    </tr>\n",
       "    <tr>\n",
       "      <th>21</th>\n",
       "      <td>RBC_RBCT_SHAREDFOLDER</td>\n",
       "      <td>126</td>\n",
       "      <td>2</td>\n",
       "      <td>128</td>\n",
       "    </tr>\n",
       "    <tr>\n",
       "      <th>22</th>\n",
       "      <td>BFAS_RWCAF</td>\n",
       "      <td>237</td>\n",
       "      <td>5</td>\n",
       "      <td>242</td>\n",
       "    </tr>\n",
       "    <tr>\n",
       "      <th>23</th>\n",
       "      <td>ALR</td>\n",
       "      <td>30</td>\n",
       "      <td>0</td>\n",
       "      <td>30</td>\n",
       "    </tr>\n",
       "    <tr>\n",
       "      <th>24</th>\n",
       "      <td>PMIKRO</td>\n",
       "      <td>11</td>\n",
       "      <td>0</td>\n",
       "      <td>11</td>\n",
       "    </tr>\n",
       "  </tbody>\n",
       "</table>\n",
       "</div>"
      ],
      "text/plain": [
       "                    System  Match IDs  Not Match IDs  Total IDs\n",
       "0                    NAPIC          3              1          4\n",
       "1                  BSH-BPN          3              1          4\n",
       "2                      EPF         23              1         24\n",
       "3                     BR1M          5              1          6\n",
       "4                     HIES         11              3         14\n",
       "5                    CCRIS         18              1         19\n",
       "6                       DP         79              4         83\n",
       "7                     ESSP         48              4         52\n",
       "8                     FEMS         84              1         85\n",
       "9              FEMS_MACRO1         63              0         63\n",
       "10             FEMS_MACRO2         17              0         17\n",
       "11                FEMS_JP3         71              3         74\n",
       "12                 INSIDES        114             10        124\n",
       "13                     RBC        148              7        155\n",
       "14                    IFAS        165              7        172\n",
       "15                   SASEG         78              5         83\n",
       "16                  SCRIBS        212             26        238\n",
       "17                     ISP        190             18        208\n",
       "18               STATSMART       2159            153       2312\n",
       "19       TOSS_SHAREDFOLDER        122              8        130\n",
       "20  ICSS_IFAS_SHAREDFOLDER        159              3        162\n",
       "21   RBC_RBCT_SHAREDFOLDER        126              2        128\n",
       "22              BFAS_RWCAF        237              5        242\n",
       "23                     ALR         30              0         30\n",
       "24                  PMIKRO         11              0         11"
      ]
     },
     "execution_count": 4,
     "metadata": {},
     "output_type": "execute_result"
    }
   ],
   "source": [
    "from blueautomata.automation_report import AutomataReport\n",
    "\n",
    "test = AutomataReport(\n",
    "    folder_path=r\"C:\\Users\\Khor Kean Teng\\Downloads\\AUP Automata\\rawdata\",\n",
    "    checklist = 'rawdata/Department Checklist.xlsx',\n",
    "    staff_data = 'rawdata/stafflist.xlsx',\n",
    "    name_key= ['DP', 'INSIDES', 'SCRIBS', 'SAS', 'STATSMART1', 'STATSMARTCUBE', 'CCRIS', 'ESSP',\n",
    "               'RBCIFAS', 'FEMS', 'TOSS', 'USERSBANKING','ADMIN'],\n",
    "    name_code= [1, 1, 1, 1, 1, 1, 1, 1, 6, 10, 10, 10, 10],\n",
    ")\n",
    "\n",
    "df = test.automata_report_summary()\n",
    "df.head(n = len(df))"
   ]
  },
  {
   "cell_type": "code",
   "execution_count": 2,
   "metadata": {},
   "outputs": [
    {
     "data": {
      "text/plain": [
       "3964"
      ]
     },
     "execution_count": 2,
     "metadata": {},
     "output_type": "execute_result"
    }
   ],
   "source": [
    "# check the number of matched ids\n",
    "# this should be the same as the number of rows in the the `automata_execution` output\n",
    "df['Match IDs'].sum()"
   ]
  },
  {
   "cell_type": "code",
   "execution_count": 5,
   "metadata": {},
   "outputs": [],
   "source": [
    "# export the report summary for reference\n",
    "#df.to_excel('report.xlsx', index=False)"
   ]
  },
  {
   "cell_type": "markdown",
   "metadata": {},
   "source": [
    "## 1.3 Inconsistency With `fix_inconsistency`"
   ]
  },
  {
   "cell_type": "markdown",
   "metadata": {},
   "source": [
    "## 1.4 SystemCubeChecker With `system_cube_update`"
   ]
  },
  {
   "cell_type": "markdown",
   "metadata": {},
   "source": [
    "## 1.5 BatchExport With `batch_export`"
   ]
  },
  {
   "cell_type": "code",
   "execution_count": 2,
   "metadata": {},
   "outputs": [
    {
     "name": "stdout",
     "output_type": "stream",
     "text": [
      "Export Completed\n"
     ]
    }
   ],
   "source": [
    "import pandas as pd\n",
    "from blueautomata.batch_export import BatchExport\n",
    "\n",
    "df = pd.read_excel('data/automata_output.xlsx')\n",
    "\n",
    "temp = BatchExport(destination = r\"C:\\Users\\Khor Kean Teng\\Downloads\\AUP Automata\\data\\dept\", masterlist = df)\n",
    "temp.batch_export()"
   ]
  },
  {
   "cell_type": "markdown",
   "metadata": {},
   "source": [
    "## 1.6 AutomateVBA With `templatetize`"
   ]
  },
  {
   "cell_type": "code",
   "execution_count": 5,
   "metadata": {},
   "outputs": [],
   "source": [
    "from blueautomata.to_vba import automate_vba\n",
    "temp = automate_vba(\n",
    "    filepath=r'C:\\\\Users\\\\Khor Kean Teng\\\\Downloads\\\\AUP Automata\\\\vbanew.xlsm',\n",
    "    macro = 'vbanew.xlsm!Module1.kt_template' \n",
    ")\n",
    "temp.templatetize()"
   ]
  },
  {
   "cell_type": "markdown",
   "metadata": {},
   "source": [
    "# 2. Fake Data Pilot Experiment"
   ]
  },
  {
   "cell_type": "code",
   "execution_count": 3,
   "metadata": {},
   "outputs": [
    {
     "data": {
      "text/html": [
       "<div>\n",
       "<style scoped>\n",
       "    .dataframe tbody tr th:only-of-type {\n",
       "        vertical-align: middle;\n",
       "    }\n",
       "\n",
       "    .dataframe tbody tr th {\n",
       "        vertical-align: top;\n",
       "    }\n",
       "\n",
       "    .dataframe thead th {\n",
       "        text-align: right;\n",
       "    }\n",
       "</style>\n",
       "<table border=\"1\" class=\"dataframe\">\n",
       "  <thead>\n",
       "    <tr style=\"text-align: right;\">\n",
       "      <th></th>\n",
       "      <th>Department</th>\n",
       "      <th>Dept</th>\n",
       "      <th>User ID</th>\n",
       "      <th>Name</th>\n",
       "      <th>System1</th>\n",
       "      <th>Cube</th>\n",
       "    </tr>\n",
       "  </thead>\n",
       "  <tbody>\n",
       "    <tr>\n",
       "      <th>0</th>\n",
       "      <td>Google</td>\n",
       "      <td>GOOG</td>\n",
       "      <td>ewbzm6yv67w33mxy9</td>\n",
       "      <td>Christopher Bruce</td>\n",
       "      <td>BSE</td>\n",
       "      <td>None</td>\n",
       "    </tr>\n",
       "    <tr>\n",
       "      <th>1</th>\n",
       "      <td>Apple</td>\n",
       "      <td>AAPL</td>\n",
       "      <td>wrzzdur66uzwvb0dh</td>\n",
       "      <td>Michael Perez</td>\n",
       "      <td>BSE</td>\n",
       "      <td>None</td>\n",
       "    </tr>\n",
       "    <tr>\n",
       "      <th>2</th>\n",
       "      <td>Apple</td>\n",
       "      <td>AAPL</td>\n",
       "      <td>aurg7k1rxgmnsylsv</td>\n",
       "      <td>Stephanie Carr</td>\n",
       "      <td>BSE</td>\n",
       "      <td>None</td>\n",
       "    </tr>\n",
       "    <tr>\n",
       "      <th>3</th>\n",
       "      <td>Apple</td>\n",
       "      <td>AAPL</td>\n",
       "      <td>np81yvtz4zcum4h39</td>\n",
       "      <td>Julia Vargas</td>\n",
       "      <td>BSE</td>\n",
       "      <td>None</td>\n",
       "    </tr>\n",
       "    <tr>\n",
       "      <th>4</th>\n",
       "      <td>Apple</td>\n",
       "      <td>AAPL</td>\n",
       "      <td>99ttcx5t43r1rrwr1</td>\n",
       "      <td>Michelle Walker</td>\n",
       "      <td>BSE</td>\n",
       "      <td>None</td>\n",
       "    </tr>\n",
       "  </tbody>\n",
       "</table>\n",
       "</div>"
      ],
      "text/plain": [
       "  Department  Dept            User ID               Name System1  Cube\n",
       "0     Google  GOOG  ewbzm6yv67w33mxy9  Christopher Bruce     BSE  None\n",
       "1      Apple  AAPL  wrzzdur66uzwvb0dh      Michael Perez     BSE  None\n",
       "2      Apple  AAPL  aurg7k1rxgmnsylsv     Stephanie Carr     BSE  None\n",
       "3      Apple  AAPL  np81yvtz4zcum4h39       Julia Vargas     BSE  None\n",
       "4      Apple  AAPL  99ttcx5t43r1rrwr1    Michelle Walker     BSE  None"
      ]
     },
     "execution_count": 3,
     "metadata": {},
     "output_type": "execute_result"
    }
   ],
   "source": [
    "test = BlueAutomata(\n",
    "    folder_path=r\"C:\\Users\\Khor Kean Teng\\Downloads\\AUP Automata\\data\\fakesystem\",\n",
    "    checklist = 'data/checklist.xlsx',\n",
    "    staff_data = 'data/fake_hr_data.xlsx',\n",
    "    name_key= ['BSE', 'HKEX', 'KLSE', 'LSE1' 'NASDAQ', 'NYSE', 'SGX', 'SSE', 'TSE'],\n",
    "    name_code= [1, 1, 1, 1, 1, 1, 1, 1, 1],\n",
    ")\n",
    "df = test.automata_execution()\n",
    "df.head()"
   ]
  },
  {
   "cell_type": "code",
   "execution_count": 4,
   "metadata": {},
   "outputs": [
    {
     "data": {
      "text/plain": [
       "(2652, 6)"
      ]
     },
     "execution_count": 4,
     "metadata": {},
     "output_type": "execute_result"
    }
   ],
   "source": [
    "df.shape"
   ]
  }
 ],
 "metadata": {
  "kernelspec": {
   "display_name": "Python 3",
   "language": "python",
   "name": "python3"
  },
  "language_info": {
   "codemirror_mode": {
    "name": "ipython",
    "version": 3
   },
   "file_extension": ".py",
   "mimetype": "text/x-python",
   "name": "python",
   "nbconvert_exporter": "python",
   "pygments_lexer": "ipython3",
   "version": "3.11.4"
  },
  "orig_nbformat": 4
 },
 "nbformat": 4,
 "nbformat_minor": 2
}
