{
 "cells": [
  {
   "cell_type": "code",
   "execution_count": 4,
   "metadata": {},
   "outputs": [],
   "source": [
    "#from blueautomata.data_cleaning import dataCleaning\n",
    "from blueautomata.data_compilation import BlueAutomata"
   ]
  },
  {
   "cell_type": "code",
   "execution_count": 2,
   "metadata": {},
   "outputs": [
    {
     "data": {
      "text/html": [
       "<div>\n",
       "<style scoped>\n",
       "    .dataframe tbody tr th:only-of-type {\n",
       "        vertical-align: middle;\n",
       "    }\n",
       "\n",
       "    .dataframe tbody tr th {\n",
       "        vertical-align: top;\n",
       "    }\n",
       "\n",
       "    .dataframe thead th {\n",
       "        text-align: right;\n",
       "    }\n",
       "</style>\n",
       "<table border=\"1\" class=\"dataframe\">\n",
       "  <thead>\n",
       "    <tr style=\"text-align: right;\">\n",
       "      <th></th>\n",
       "      <th>Department</th>\n",
       "      <th>Dept</th>\n",
       "      <th>User ID</th>\n",
       "      <th>Name</th>\n",
       "      <th>System1</th>\n",
       "      <th>Cube</th>\n",
       "    </tr>\n",
       "  </thead>\n",
       "  <tbody>\n",
       "    <tr>\n",
       "      <th>0</th>\n",
       "      <td>Jabatan Pengurusan Data dan Statistik</td>\n",
       "      <td>JPS</td>\n",
       "      <td>sskila</td>\n",
       "      <td>Roshakila binti Ahmad</td>\n",
       "      <td>NAPIC</td>\n",
       "      <td>None</td>\n",
       "    </tr>\n",
       "    <tr>\n",
       "      <th>1</th>\n",
       "      <td>Jabatan Pengurusan Data dan Statistik</td>\n",
       "      <td>JPS</td>\n",
       "      <td>sshocc</td>\n",
       "      <td>Dr. Ho Chiung Ching</td>\n",
       "      <td>NAPIC</td>\n",
       "      <td>None</td>\n",
       "    </tr>\n",
       "    <tr>\n",
       "      <th>2</th>\n",
       "      <td>Jabatan Rangkuman Kewangan</td>\n",
       "      <td>FID</td>\n",
       "      <td>desharul</td>\n",
       "      <td>Shahrul Fitri bin Shafii</td>\n",
       "      <td>NAPIC</td>\n",
       "      <td>None</td>\n",
       "    </tr>\n",
       "    <tr>\n",
       "      <th>3</th>\n",
       "      <td>Jabatan Pengurusan Data dan Statistik</td>\n",
       "      <td>JPS</td>\n",
       "      <td>sskila</td>\n",
       "      <td>Roshakila binti Ahmad</td>\n",
       "      <td>BSH-BPN</td>\n",
       "      <td>None</td>\n",
       "    </tr>\n",
       "    <tr>\n",
       "      <th>4</th>\n",
       "      <td>Jabatan Dasar Monetari</td>\n",
       "      <td>JDM</td>\n",
       "      <td>sseilyn</td>\n",
       "      <td>Eilyn Chong Yee Lin</td>\n",
       "      <td>BSH-BPN</td>\n",
       "      <td>None</td>\n",
       "    </tr>\n",
       "  </tbody>\n",
       "</table>\n",
       "</div>"
      ],
      "text/plain": [
       "                              Department Dept   User ID  \\\n",
       "0  Jabatan Pengurusan Data dan Statistik  JPS    sskila   \n",
       "1  Jabatan Pengurusan Data dan Statistik  JPS    sshocc   \n",
       "2             Jabatan Rangkuman Kewangan  FID  desharul   \n",
       "3  Jabatan Pengurusan Data dan Statistik  JPS    sskila   \n",
       "4                 Jabatan Dasar Monetari  JDM   sseilyn   \n",
       "\n",
       "                       Name  System1  Cube  \n",
       "0     Roshakila binti Ahmad    NAPIC  None  \n",
       "1       Dr. Ho Chiung Ching    NAPIC  None  \n",
       "2  Shahrul Fitri bin Shafii    NAPIC  None  \n",
       "3     Roshakila binti Ahmad  BSH-BPN  None  \n",
       "4       Eilyn Chong Yee Lin  BSH-BPN  None  "
      ]
     },
     "execution_count": 2,
     "metadata": {},
     "output_type": "execute_result"
    }
   ],
   "source": [
    "test = BlueAutomata(\n",
    "    folder_path=r\"C:\\Users\\Khor Kean Teng\\Downloads\\AUP Automata\\rawdata\",\n",
    "    checklist = 'rawdata/Department Checklist.xlsx',\n",
    "    staff_data = 'rawdata/stafflist.xlsx',\n",
    "    name_key= ['DP', 'INSIDES', 'SAS', 'STATSMART1', 'STATSMARTCUBE', 'CCRIS', 'ESSP',\n",
    "               'RBCIFAS', 'FEMS', 'TOSS', 'USERSBANKING','ADMIN'],\n",
    "    name_code= [1, 1, 1, 2, 3, 4, 5, 6, 10, 10, 10, 10],\n",
    ")\n",
    "df = test.automata_execution()\n",
    "df.head()"
   ]
  },
  {
   "cell_type": "code",
   "execution_count": 3,
   "metadata": {},
   "outputs": [
    {
     "data": {
      "text/plain": [
       "(8609, 6)"
      ]
     },
     "execution_count": 3,
     "metadata": {},
     "output_type": "execute_result"
    }
   ],
   "source": [
    "df.shape"
   ]
  },
  {
   "cell_type": "code",
   "execution_count": 4,
   "metadata": {},
   "outputs": [
    {
     "data": {
      "text/html": [
       "<div>\n",
       "<style scoped>\n",
       "    .dataframe tbody tr th:only-of-type {\n",
       "        vertical-align: middle;\n",
       "    }\n",
       "\n",
       "    .dataframe tbody tr th {\n",
       "        vertical-align: top;\n",
       "    }\n",
       "\n",
       "    .dataframe thead th {\n",
       "        text-align: right;\n",
       "    }\n",
       "</style>\n",
       "<table border=\"1\" class=\"dataframe\">\n",
       "  <thead>\n",
       "    <tr style=\"text-align: right;\">\n",
       "      <th></th>\n",
       "      <th>Department</th>\n",
       "      <th>Dept</th>\n",
       "      <th>User ID</th>\n",
       "      <th>Name</th>\n",
       "      <th>System1</th>\n",
       "      <th>Cube</th>\n",
       "    </tr>\n",
       "  </thead>\n",
       "  <tbody>\n",
       "    <tr>\n",
       "      <th>0</th>\n",
       "      <td>Google</td>\n",
       "      <td>GOOG</td>\n",
       "      <td>ewbzm6yv67w33mxy9</td>\n",
       "      <td>Christopher Bruce</td>\n",
       "      <td>BSE</td>\n",
       "      <td>None</td>\n",
       "    </tr>\n",
       "    <tr>\n",
       "      <th>1</th>\n",
       "      <td>Apple</td>\n",
       "      <td>AAPL</td>\n",
       "      <td>wrzzdur66uzwvb0dh</td>\n",
       "      <td>Michael Perez</td>\n",
       "      <td>BSE</td>\n",
       "      <td>None</td>\n",
       "    </tr>\n",
       "    <tr>\n",
       "      <th>2</th>\n",
       "      <td>Apple</td>\n",
       "      <td>AAPL</td>\n",
       "      <td>aurg7k1rxgmnsylsv</td>\n",
       "      <td>Stephanie Carr</td>\n",
       "      <td>BSE</td>\n",
       "      <td>None</td>\n",
       "    </tr>\n",
       "    <tr>\n",
       "      <th>3</th>\n",
       "      <td>Apple</td>\n",
       "      <td>AAPL</td>\n",
       "      <td>np81yvtz4zcum4h39</td>\n",
       "      <td>Julia Vargas</td>\n",
       "      <td>BSE</td>\n",
       "      <td>None</td>\n",
       "    </tr>\n",
       "    <tr>\n",
       "      <th>4</th>\n",
       "      <td>Apple</td>\n",
       "      <td>AAPL</td>\n",
       "      <td>99ttcx5t43r1rrwr1</td>\n",
       "      <td>Michelle Walker</td>\n",
       "      <td>BSE</td>\n",
       "      <td>None</td>\n",
       "    </tr>\n",
       "  </tbody>\n",
       "</table>\n",
       "</div>"
      ],
      "text/plain": [
       "  Department  Dept            User ID               Name System1  Cube\n",
       "0     Google  GOOG  ewbzm6yv67w33mxy9  Christopher Bruce     BSE  None\n",
       "1      Apple  AAPL  wrzzdur66uzwvb0dh      Michael Perez     BSE  None\n",
       "2      Apple  AAPL  aurg7k1rxgmnsylsv     Stephanie Carr     BSE  None\n",
       "3      Apple  AAPL  np81yvtz4zcum4h39       Julia Vargas     BSE  None\n",
       "4      Apple  AAPL  99ttcx5t43r1rrwr1    Michelle Walker     BSE  None"
      ]
     },
     "execution_count": 4,
     "metadata": {},
     "output_type": "execute_result"
    }
   ],
   "source": [
    "test = BlueAutomata(\n",
    "    folder_path=r\"C:\\Users\\Khor Kean Teng\\Downloads\\AUP Automata\\data\\fakesystem\",\n",
    "    checklist = 'data/checklist.xlsx',\n",
    "    staff_data = 'data/fake_hr_data.xlsx',\n",
    "    name_key= ['BSE', 'HKEX', 'KLSE', 'LSE1' 'NASDAQ', 'NYSE', 'SGX', 'SSE', 'TSE'],\n",
    "    name_code= [1, 1, 1, 1, 1, 1, 1, 1, 1],\n",
    ")\n",
    "df = test.automata_execution()\n",
    "df.head()"
   ]
  },
  {
   "cell_type": "code",
   "execution_count": 5,
   "metadata": {},
   "outputs": [
    {
     "data": {
      "text/plain": [
       "(2652, 6)"
      ]
     },
     "execution_count": 5,
     "metadata": {},
     "output_type": "execute_result"
    }
   ],
   "source": [
    "df.shape"
   ]
  },
  {
   "cell_type": "code",
   "execution_count": 6,
   "metadata": {},
   "outputs": [],
   "source": [
    "df.to_excel('data/automata_output.xlsx')"
   ]
  },
  {
   "cell_type": "code",
   "execution_count": 1,
   "metadata": {},
   "outputs": [],
   "source": [
    "# double chekcing\n",
    "from blueautomata.batch_export import BatchExport"
   ]
  },
  {
   "cell_type": "code",
   "execution_count": 2,
   "metadata": {},
   "outputs": [
    {
     "name": "stdout",
     "output_type": "stream",
     "text": [
      "Export Completed\n"
     ]
    }
   ],
   "source": [
    "import pandas as pd\n",
    "df = pd.read_excel('data/automata_output.xlsx')\n",
    "\n",
    "temp = BatchExport(destination = r\"C:\\Users\\Khor Kean Teng\\Downloads\\AUP Automata\\data\\dept\", masterlist = df)\n",
    "temp.batch_export()"
   ]
  },
  {
   "cell_type": "code",
   "execution_count": 5,
   "metadata": {},
   "outputs": [],
   "source": [
    "from blueautomata.to_vba import automate_vba\n",
    "temp = automate_vba(filepath=r'C:\\\\Users\\\\Khor Kean Teng\\\\Downloads\\\\AUP Automata\\\\vbanew.xlsm',macro = 'vbanew.xlsm!Module1.kt_template' )"
   ]
  },
  {
   "cell_type": "code",
   "execution_count": 6,
   "metadata": {},
   "outputs": [],
   "source": [
    "temp.templatetize()"
   ]
  }
 ],
 "metadata": {
  "kernelspec": {
   "display_name": "Python 3",
   "language": "python",
   "name": "python3"
  },
  "language_info": {
   "codemirror_mode": {
    "name": "ipython",
    "version": 3
   },
   "file_extension": ".py",
   "mimetype": "text/x-python",
   "name": "python",
   "nbconvert_exporter": "python",
   "pygments_lexer": "ipython3",
   "version": "3.11.4"
  },
  "orig_nbformat": 4
 },
 "nbformat": 4,
 "nbformat_minor": 2
}
