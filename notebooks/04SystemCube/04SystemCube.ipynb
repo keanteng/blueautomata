{
 "cells": [
  {
   "cell_type": "markdown",
   "metadata": {},
   "source": [
    "## Class `SystemCubeChecker` \n",
    "A notebook to showcase the usage of `SystemCubeChecker` class"
   ]
  },
  {
   "cell_type": "code",
   "execution_count": 1,
   "metadata": {},
   "outputs": [],
   "source": [
    "# import class\n",
    "from blueautomata.system_cube import SystemCubeChecker\n",
    "import pandas as pd"
   ]
  },
  {
   "cell_type": "code",
   "execution_count": 3,
   "metadata": {},
   "outputs": [
    {
     "data": {
      "text/html": [
       "<div>\n",
       "<style scoped>\n",
       "    .dataframe tbody tr th:only-of-type {\n",
       "        vertical-align: middle;\n",
       "    }\n",
       "\n",
       "    .dataframe tbody tr th {\n",
       "        vertical-align: top;\n",
       "    }\n",
       "\n",
       "    .dataframe thead th {\n",
       "        text-align: right;\n",
       "    }\n",
       "</style>\n",
       "<table border=\"1\" class=\"dataframe\">\n",
       "  <thead>\n",
       "    <tr style=\"text-align: right;\">\n",
       "      <th></th>\n",
       "      <th>Department</th>\n",
       "      <th>Dept</th>\n",
       "      <th>User ID</th>\n",
       "      <th>Name</th>\n",
       "      <th>System1</th>\n",
       "      <th>Cube</th>\n",
       "    </tr>\n",
       "  </thead>\n",
       "  <tbody>\n",
       "    <tr>\n",
       "      <th>0</th>\n",
       "      <td>Google</td>\n",
       "      <td>GOOG</td>\n",
       "      <td>ewbzm6yv67w33mxy9</td>\n",
       "      <td>Christopher Bruce</td>\n",
       "      <td>Avatar</td>\n",
       "      <td>NaN</td>\n",
       "    </tr>\n",
       "    <tr>\n",
       "      <th>1</th>\n",
       "      <td>Apple</td>\n",
       "      <td>AAPL</td>\n",
       "      <td>wrzzdur66uzwvb0dh</td>\n",
       "      <td>Michael Perez</td>\n",
       "      <td>Ironman</td>\n",
       "      <td>NaN</td>\n",
       "    </tr>\n",
       "    <tr>\n",
       "      <th>2</th>\n",
       "      <td>Apple</td>\n",
       "      <td>AAPL</td>\n",
       "      <td>aurg7k1rxgmnsylsv</td>\n",
       "      <td>Stephanie Carr</td>\n",
       "      <td>Thor</td>\n",
       "      <td>NaN</td>\n",
       "    </tr>\n",
       "    <tr>\n",
       "      <th>3</th>\n",
       "      <td>Apple</td>\n",
       "      <td>AAPL</td>\n",
       "      <td>np81yvtz4zcum4h39</td>\n",
       "      <td>Julia Vargas</td>\n",
       "      <td>Spiderman</td>\n",
       "      <td>NaN</td>\n",
       "    </tr>\n",
       "    <tr>\n",
       "      <th>4</th>\n",
       "      <td>Apple</td>\n",
       "      <td>AAPL</td>\n",
       "      <td>99ttcx5t43r1rrwr1</td>\n",
       "      <td>Michelle Walker</td>\n",
       "      <td>Eternals</td>\n",
       "      <td>NaN</td>\n",
       "    </tr>\n",
       "  </tbody>\n",
       "</table>\n",
       "</div>"
      ],
      "text/plain": [
       "  Department  Dept            User ID               Name    System1  Cube\n",
       "0     Google  GOOG  ewbzm6yv67w33mxy9  Christopher Bruce     Avatar   NaN\n",
       "1      Apple  AAPL  wrzzdur66uzwvb0dh      Michael Perez    Ironman   NaN\n",
       "2      Apple  AAPL  aurg7k1rxgmnsylsv     Stephanie Carr       Thor   NaN\n",
       "3      Apple  AAPL  np81yvtz4zcum4h39       Julia Vargas  Spiderman   NaN\n",
       "4      Apple  AAPL  99ttcx5t43r1rrwr1    Michelle Walker   Eternals   NaN"
      ]
     },
     "execution_count": 3,
     "metadata": {},
     "output_type": "execute_result"
    }
   ],
   "source": [
    "preview = pd.read_excel('data/fakesystem/experiment/sample2.xlsx')\n",
    "preview.head()"
   ]
  },
  {
   "cell_type": "markdown",
   "metadata": {},
   "source": [
    "- You can see that the `System1` column the items are wrong, the items are cube and the system should be name `Marvel`"
   ]
  },
  {
   "cell_type": "code",
   "execution_count": 4,
   "metadata": {},
   "outputs": [
    {
     "data": {
      "text/html": [
       "<div>\n",
       "<style scoped>\n",
       "    .dataframe tbody tr th:only-of-type {\n",
       "        vertical-align: middle;\n",
       "    }\n",
       "\n",
       "    .dataframe tbody tr th {\n",
       "        vertical-align: top;\n",
       "    }\n",
       "\n",
       "    .dataframe thead th {\n",
       "        text-align: right;\n",
       "    }\n",
       "</style>\n",
       "<table border=\"1\" class=\"dataframe\">\n",
       "  <thead>\n",
       "    <tr style=\"text-align: right;\">\n",
       "      <th></th>\n",
       "      <th>Department</th>\n",
       "      <th>Dept</th>\n",
       "      <th>User ID</th>\n",
       "      <th>Name</th>\n",
       "      <th>System1</th>\n",
       "      <th>Cube</th>\n",
       "    </tr>\n",
       "  </thead>\n",
       "  <tbody>\n",
       "    <tr>\n",
       "      <th>0</th>\n",
       "      <td>Google</td>\n",
       "      <td>GOOG</td>\n",
       "      <td>ewbzm6yv67w33mxy9</td>\n",
       "      <td>Christopher Bruce</td>\n",
       "      <td>Marvel</td>\n",
       "      <td>Avatar</td>\n",
       "    </tr>\n",
       "    <tr>\n",
       "      <th>1</th>\n",
       "      <td>Apple</td>\n",
       "      <td>AAPL</td>\n",
       "      <td>wrzzdur66uzwvb0dh</td>\n",
       "      <td>Michael Perez</td>\n",
       "      <td>Marvel</td>\n",
       "      <td>Ironman</td>\n",
       "    </tr>\n",
       "    <tr>\n",
       "      <th>2</th>\n",
       "      <td>Apple</td>\n",
       "      <td>AAPL</td>\n",
       "      <td>aurg7k1rxgmnsylsv</td>\n",
       "      <td>Stephanie Carr</td>\n",
       "      <td>Marvel</td>\n",
       "      <td>Thor</td>\n",
       "    </tr>\n",
       "    <tr>\n",
       "      <th>3</th>\n",
       "      <td>Apple</td>\n",
       "      <td>AAPL</td>\n",
       "      <td>np81yvtz4zcum4h39</td>\n",
       "      <td>Julia Vargas</td>\n",
       "      <td>Marvel</td>\n",
       "      <td>Spiderman</td>\n",
       "    </tr>\n",
       "    <tr>\n",
       "      <th>4</th>\n",
       "      <td>Apple</td>\n",
       "      <td>AAPL</td>\n",
       "      <td>99ttcx5t43r1rrwr1</td>\n",
       "      <td>Michelle Walker</td>\n",
       "      <td>Marvel</td>\n",
       "      <td>Eternals</td>\n",
       "    </tr>\n",
       "  </tbody>\n",
       "</table>\n",
       "</div>"
      ],
      "text/plain": [
       "  Department  Dept            User ID               Name System1       Cube\n",
       "0     Google  GOOG  ewbzm6yv67w33mxy9  Christopher Bruce  Marvel     Avatar\n",
       "1      Apple  AAPL  wrzzdur66uzwvb0dh      Michael Perez  Marvel    Ironman\n",
       "2      Apple  AAPL  aurg7k1rxgmnsylsv     Stephanie Carr  Marvel       Thor\n",
       "3      Apple  AAPL  np81yvtz4zcum4h39       Julia Vargas  Marvel  Spiderman\n",
       "4      Apple  AAPL  99ttcx5t43r1rrwr1    Michelle Walker  Marvel   Eternals"
      ]
     },
     "execution_count": 4,
     "metadata": {},
     "output_type": "execute_result"
    }
   ],
   "source": [
    "test = SystemCubeChecker(\n",
    "masterlistpath = 'data/fakesystem/experiment/sample2.xlsx',\n",
    "system_to_check= ['Avatar', 'Ironman', 'Thor', 'Spiderman', 'Eternals'],\n",
    "cube_to_assign='Marvel'\n",
    ")\n",
    "\n",
    "df = test.system_cube_update()\n",
    "\n",
    "df.head()"
   ]
  },
  {
   "cell_type": "markdown",
   "metadata": {},
   "source": [
    "- You can see the system and cube are correctly updated"
   ]
  }
 ],
 "metadata": {
  "kernelspec": {
   "display_name": "Python 3",
   "language": "python",
   "name": "python3"
  },
  "language_info": {
   "codemirror_mode": {
    "name": "ipython",
    "version": 3
   },
   "file_extension": ".py",
   "mimetype": "text/x-python",
   "name": "python",
   "nbconvert_exporter": "python",
   "pygments_lexer": "ipython3",
   "version": "3.11.4"
  },
  "orig_nbformat": 4
 },
 "nbformat": 4,
 "nbformat_minor": 2
}
