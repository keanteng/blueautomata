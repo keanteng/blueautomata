{
 "cells": [
  {
   "cell_type": "code",
   "execution_count": 61,
   "metadata": {},
   "outputs": [],
   "source": [
    "from faker import Faker\n",
    "import pandas as pd"
   ]
  },
  {
   "cell_type": "code",
   "execution_count": 62,
   "metadata": {},
   "outputs": [],
   "source": [
    "fake = Faker()\n",
    "dept = ['GOOG', 'AAPL', 'MSFT', 'AMZN', 'FB', 'INSTA', 'AIRBNB', 'UBER', 'LYFT', 'TWTR', 'TSLA', 'NFLX', 'SPOT', 'SNAP', 'PINS', 'ZM', 'WORK', 'SQ', 'SHOP', 'BYND']\n",
    "dept_name = ['Google', 'Apple', 'Microsoft', 'Amazon', 'Facebook', 'Instagram', 'Airbnb', 'Uber', 'Lyft', 'Twitter', 'Tesla', 'Netflix', 'Spotify', 'Snapchat', 'Pinterest', 'Zoom', 'Slack', 'Square', 'Shopify', 'Beyond Meat']\n",
    "\n",
    "# generate fake name\n",
    "new = [None] * 1000\n",
    "\n",
    "for i in range(0, 1000):\n",
    "    new[i] = fake.name()\n",
    "    \n",
    "# genearte fake email\n",
    "new1 = [None] * 1000\n",
    "\n",
    "for i in range(0, 1000):\n",
    "    new1[i] = fake.email()\n",
    "    \n",
    "# create fake department\n",
    "new2 = [None] * 1000\n",
    "new3 = [None] * 1000\n",
    "\n",
    "for i in range(0, 1000):\n",
    "    if i <= 50:\n",
    "        new2[i] = dept[0]\n",
    "        new3[i] = dept_name[0]\n",
    "    elif i <= 100:\n",
    "        new2[i] = dept[1]\n",
    "        new3[i] = dept_name[1]\n",
    "    elif i <= 150:\n",
    "        new2[i] = dept[2]\n",
    "        new3[i] = dept_name[2]\n",
    "    elif i <= 200:\n",
    "        new2[i] = dept[3]\n",
    "        new3[i] = dept_name[3]\n",
    "    elif i <= 250:\n",
    "        new2[i] = dept[4]\n",
    "        new3[i] = dept_name[4]\n",
    "    elif i <= 300:\n",
    "        new2[i] = dept[5]\n",
    "        new3[i] = dept_name[5]\n",
    "    elif i <= 350:\n",
    "        new2[i] = dept[6]\n",
    "        new3[i] = dept_name[6]\n",
    "    elif i <= 400:\n",
    "        new2[i] = dept[7]\n",
    "        new3[i] = dept_name[7]\n",
    "    elif i <= 450:\n",
    "        new2[i] = dept[8]\n",
    "        new3[i] = dept_name[8]\n",
    "    elif i <= 500:\n",
    "        new2[i] = dept[9]\n",
    "        new3[i] = dept_name[9]\n",
    "    elif i <= 550:\n",
    "        new2[i] = dept[10]\n",
    "        new3[i] = dept_name[10]\n",
    "    elif i <= 600:\n",
    "        new2[i] = dept[11]\n",
    "        new3[i] = dept_name[11]\n",
    "    elif i <= 650:\n",
    "        new2[i] = dept[12]\n",
    "        new3[i] = dept_name[12]\n",
    "    elif i <= 700:\n",
    "        new2[i] = dept[13]\n",
    "        new3[i] = dept_name[13]\n",
    "    elif i <= 750:\n",
    "        new2[i] = dept[14]\n",
    "        new3[i] = dept_name[14]\n",
    "    elif i <= 800:\n",
    "        new2[i] = dept[15]\n",
    "        new3[i] = dept_name[15]\n",
    "    elif i <= 850:\n",
    "        new2[i] = dept[16]\n",
    "        new3[i] = dept_name[16]\n",
    "    elif i <= 900:\n",
    "        new2[i] = dept[17]\n",
    "        new3[i] = dept_name[17]\n",
    "    elif i <= 950:\n",
    "        new2[i] = dept[18]\n",
    "        new3[i] = dept_name[18]\n",
    "    else:\n",
    "        new2[i] = dept[19]\n",
    "        new3[i] = dept_name[19]\n",
    "        \n",
    "# create fake id\n",
    "new4 = [None] * 1000\n",
    "\n",
    "for i in range(0, 1000):\n",
    "    new4[i] = fake.vin()"
   ]
  },
  {
   "cell_type": "code",
   "execution_count": 63,
   "metadata": {},
   "outputs": [
    {
     "data": {
      "text/html": [
       "<div>\n",
       "<style scoped>\n",
       "    .dataframe tbody tr th:only-of-type {\n",
       "        vertical-align: middle;\n",
       "    }\n",
       "\n",
       "    .dataframe tbody tr th {\n",
       "        vertical-align: top;\n",
       "    }\n",
       "\n",
       "    .dataframe thead th {\n",
       "        text-align: right;\n",
       "    }\n",
       "</style>\n",
       "<table border=\"1\" class=\"dataframe\">\n",
       "  <thead>\n",
       "    <tr style=\"text-align: right;\">\n",
       "      <th></th>\n",
       "      <th>User ID</th>\n",
       "      <th>name</th>\n",
       "      <th>email</th>\n",
       "      <th>dept</th>\n",
       "      <th>dept_name</th>\n",
       "    </tr>\n",
       "  </thead>\n",
       "  <tbody>\n",
       "    <tr>\n",
       "      <th>0</th>\n",
       "      <td>WN1ZKDTK5EWDFDWKG</td>\n",
       "      <td>Eric Blake</td>\n",
       "      <td>kellypedro@example.org</td>\n",
       "      <td>GOOG</td>\n",
       "      <td>Google</td>\n",
       "    </tr>\n",
       "    <tr>\n",
       "      <th>1</th>\n",
       "      <td>M7H0N6B55GG62ESX4</td>\n",
       "      <td>Teresa Young</td>\n",
       "      <td>sararangel@example.com</td>\n",
       "      <td>GOOG</td>\n",
       "      <td>Google</td>\n",
       "    </tr>\n",
       "    <tr>\n",
       "      <th>2</th>\n",
       "      <td>5A25HE6Y8V9DUSAKP</td>\n",
       "      <td>Thomas Rodriguez</td>\n",
       "      <td>martinezvalerie@example.net</td>\n",
       "      <td>GOOG</td>\n",
       "      <td>Google</td>\n",
       "    </tr>\n",
       "    <tr>\n",
       "      <th>3</th>\n",
       "      <td>P4746KWY3MC946KSC</td>\n",
       "      <td>Sharon Bell</td>\n",
       "      <td>bmorgan@example.org</td>\n",
       "      <td>GOOG</td>\n",
       "      <td>Google</td>\n",
       "    </tr>\n",
       "    <tr>\n",
       "      <th>4</th>\n",
       "      <td>DT1HWZE13XSCFUD2R</td>\n",
       "      <td>Andrew Martin</td>\n",
       "      <td>lesliepotter@example.com</td>\n",
       "      <td>GOOG</td>\n",
       "      <td>Google</td>\n",
       "    </tr>\n",
       "  </tbody>\n",
       "</table>\n",
       "</div>"
      ],
      "text/plain": [
       "             User ID              name                        email  dept  \\\n",
       "0  WN1ZKDTK5EWDFDWKG        Eric Blake       kellypedro@example.org  GOOG   \n",
       "1  M7H0N6B55GG62ESX4      Teresa Young       sararangel@example.com  GOOG   \n",
       "2  5A25HE6Y8V9DUSAKP  Thomas Rodriguez  martinezvalerie@example.net  GOOG   \n",
       "3  P4746KWY3MC946KSC       Sharon Bell          bmorgan@example.org  GOOG   \n",
       "4  DT1HWZE13XSCFUD2R     Andrew Martin     lesliepotter@example.com  GOOG   \n",
       "\n",
       "  dept_name  \n",
       "0    Google  \n",
       "1    Google  \n",
       "2    Google  \n",
       "3    Google  \n",
       "4    Google  "
      ]
     },
     "execution_count": 63,
     "metadata": {},
     "output_type": "execute_result"
    }
   ],
   "source": [
    "data = pd.DataFrame({'User ID': new4, 'name': new, 'email': new1, 'dept': new2, 'dept_name': new3})\n",
    "data.head()"
   ]
  },
  {
   "cell_type": "code",
   "execution_count": 64,
   "metadata": {},
   "outputs": [
    {
     "data": {
      "text/plain": [
       "(1000, 5)"
      ]
     },
     "execution_count": 64,
     "metadata": {},
     "output_type": "execute_result"
    }
   ],
   "source": [
    "data.shape"
   ]
  },
  {
   "cell_type": "code",
   "execution_count": 65,
   "metadata": {},
   "outputs": [],
   "source": [
    "# create fake system access\n",
    "\n",
    "system = ['KLSE', 'NASDAQ', 'NYSE', 'SGX', 'HKEX', 'LSE', 'TSE', 'SSE', 'BSE', 'ASX', 'JSE', 'BME', 'FWB', 'BIST', 'B3', 'MOEX', 'TWSE', 'BVL', 'IDX', 'SET']\n",
    "\n",
    "from random import randrange\n",
    "\n",
    "new5 = []\n",
    "id = []\n",
    "name = []\n",
    "email = []\n",
    "dept = []\n",
    "dept_name = []\n",
    "\n",
    "for i in range(0, len(data)):\n",
    "    key = randrange(10)\n",
    "    for j in range(0, key):\n",
    "        new5.append(system[j])\n",
    "        id.append(data['User ID'][i])\n",
    "        name.append(data['name'][i])\n",
    "        email.append(data['email'][i])\n",
    "        dept.append(data['dept'][i])\n",
    "        dept_name.append(data['dept_name'][i])"
   ]
  },
  {
   "cell_type": "code",
   "execution_count": 66,
   "metadata": {},
   "outputs": [
    {
     "data": {
      "text/html": [
       "<div>\n",
       "<style scoped>\n",
       "    .dataframe tbody tr th:only-of-type {\n",
       "        vertical-align: middle;\n",
       "    }\n",
       "\n",
       "    .dataframe tbody tr th {\n",
       "        vertical-align: top;\n",
       "    }\n",
       "\n",
       "    .dataframe thead th {\n",
       "        text-align: right;\n",
       "    }\n",
       "</style>\n",
       "<table border=\"1\" class=\"dataframe\">\n",
       "  <thead>\n",
       "    <tr style=\"text-align: right;\">\n",
       "      <th></th>\n",
       "      <th>User ID</th>\n",
       "      <th>name</th>\n",
       "      <th>email</th>\n",
       "      <th>Dept</th>\n",
       "      <th>System1</th>\n",
       "      <th>Department</th>\n",
       "      <th>Cube</th>\n",
       "    </tr>\n",
       "  </thead>\n",
       "  <tbody>\n",
       "    <tr>\n",
       "      <th>0</th>\n",
       "      <td>WN1ZKDTK5EWDFDWKG</td>\n",
       "      <td>Eric Blake</td>\n",
       "      <td>kellypedro@example.org</td>\n",
       "      <td>GOOG</td>\n",
       "      <td>KLSE</td>\n",
       "      <td>Google</td>\n",
       "      <td>None</td>\n",
       "    </tr>\n",
       "    <tr>\n",
       "      <th>1</th>\n",
       "      <td>WN1ZKDTK5EWDFDWKG</td>\n",
       "      <td>Eric Blake</td>\n",
       "      <td>kellypedro@example.org</td>\n",
       "      <td>GOOG</td>\n",
       "      <td>NASDAQ</td>\n",
       "      <td>Google</td>\n",
       "      <td>None</td>\n",
       "    </tr>\n",
       "    <tr>\n",
       "      <th>2</th>\n",
       "      <td>WN1ZKDTK5EWDFDWKG</td>\n",
       "      <td>Eric Blake</td>\n",
       "      <td>kellypedro@example.org</td>\n",
       "      <td>GOOG</td>\n",
       "      <td>NYSE</td>\n",
       "      <td>Google</td>\n",
       "      <td>None</td>\n",
       "    </tr>\n",
       "    <tr>\n",
       "      <th>3</th>\n",
       "      <td>WN1ZKDTK5EWDFDWKG</td>\n",
       "      <td>Eric Blake</td>\n",
       "      <td>kellypedro@example.org</td>\n",
       "      <td>GOOG</td>\n",
       "      <td>SGX</td>\n",
       "      <td>Google</td>\n",
       "      <td>None</td>\n",
       "    </tr>\n",
       "    <tr>\n",
       "      <th>4</th>\n",
       "      <td>M7H0N6B55GG62ESX4</td>\n",
       "      <td>Teresa Young</td>\n",
       "      <td>sararangel@example.com</td>\n",
       "      <td>GOOG</td>\n",
       "      <td>KLSE</td>\n",
       "      <td>Google</td>\n",
       "      <td>None</td>\n",
       "    </tr>\n",
       "  </tbody>\n",
       "</table>\n",
       "</div>"
      ],
      "text/plain": [
       "             User ID          name                   email  Dept System1  \\\n",
       "0  WN1ZKDTK5EWDFDWKG    Eric Blake  kellypedro@example.org  GOOG    KLSE   \n",
       "1  WN1ZKDTK5EWDFDWKG    Eric Blake  kellypedro@example.org  GOOG  NASDAQ   \n",
       "2  WN1ZKDTK5EWDFDWKG    Eric Blake  kellypedro@example.org  GOOG    NYSE   \n",
       "3  WN1ZKDTK5EWDFDWKG    Eric Blake  kellypedro@example.org  GOOG     SGX   \n",
       "4  M7H0N6B55GG62ESX4  Teresa Young  sararangel@example.com  GOOG    KLSE   \n",
       "\n",
       "  Department  Cube  \n",
       "0     Google  None  \n",
       "1     Google  None  \n",
       "2     Google  None  \n",
       "3     Google  None  \n",
       "4     Google  None  "
      ]
     },
     "execution_count": 66,
     "metadata": {},
     "output_type": "execute_result"
    }
   ],
   "source": [
    "df = pd.DataFrame({'User ID': id, 'name': name, 'email': email, 'Dept': dept, 'System1': new5, 'Department': dept_name})\n",
    "df = df.dropna()\n",
    "df['Cube'] = None\n",
    "df.head()"
   ]
  },
  {
   "cell_type": "code",
   "execution_count": 67,
   "metadata": {},
   "outputs": [],
   "source": [
    "import random\n",
    "import pandas as pd\n",
    "import warnings\n",
    "\n",
    "warnings.filterwarnings('ignore')\n",
    "\n",
    "checklist = pd.read_excel('checklist.xlsx', sheet_name='cube')\n",
    "\n",
    "for i in range(0, len(df)):\n",
    "    if i <= 60:\n",
    "        df['Cube'][i] = random.randint(100000,999999)\n",
    "        checklist['cube'] = df['Cube'][i]"
   ]
  },
  {
   "cell_type": "code",
   "execution_count": 68,
   "metadata": {},
   "outputs": [
    {
     "name": "stdout",
     "output_type": "stream",
     "text": [
      "(4542, 7)\n"
     ]
    }
   ],
   "source": [
    "print(df.shape)"
   ]
  },
  {
   "cell_type": "code",
   "execution_count": 69,
   "metadata": {},
   "outputs": [],
   "source": [
    "df.to_csv('data/fakedata.csv', index=False)"
   ]
  },
  {
   "cell_type": "code",
   "execution_count": 70,
   "metadata": {},
   "outputs": [],
   "source": [
    "df.columns = ['User ID', 'Fullname', 'Email', 'Dept', 'System1', 'Department', 'Cube']\n",
    "df = df[['Department', 'Dept', 'User ID', 'Fullname', 'System1', 'Cube']]\n",
    "df.to_excel('data/fakedata.xlsx', index=False)"
   ]
  },
  {
   "cell_type": "code",
   "execution_count": 71,
   "metadata": {},
   "outputs": [
    {
     "data": {
      "text/html": [
       "<div>\n",
       "<style scoped>\n",
       "    .dataframe tbody tr th:only-of-type {\n",
       "        vertical-align: middle;\n",
       "    }\n",
       "\n",
       "    .dataframe tbody tr th {\n",
       "        vertical-align: top;\n",
       "    }\n",
       "\n",
       "    .dataframe thead th {\n",
       "        text-align: right;\n",
       "    }\n",
       "</style>\n",
       "<table border=\"1\" class=\"dataframe\">\n",
       "  <thead>\n",
       "    <tr style=\"text-align: right;\">\n",
       "      <th></th>\n",
       "      <th>User ID</th>\n",
       "      <th>name</th>\n",
       "      <th>email</th>\n",
       "      <th>dept</th>\n",
       "      <th>dept_name</th>\n",
       "    </tr>\n",
       "  </thead>\n",
       "  <tbody>\n",
       "    <tr>\n",
       "      <th>1</th>\n",
       "      <td>M7H0N6B55GG62ESX4</td>\n",
       "      <td>Teresa Young</td>\n",
       "      <td>sararangel@example.com</td>\n",
       "      <td>GOOG</td>\n",
       "      <td>Google</td>\n",
       "    </tr>\n",
       "    <tr>\n",
       "      <th>4</th>\n",
       "      <td>DT1HWZE13XSCFUD2R</td>\n",
       "      <td>Andrew Martin</td>\n",
       "      <td>lesliepotter@example.com</td>\n",
       "      <td>GOOG</td>\n",
       "      <td>Google</td>\n",
       "    </tr>\n",
       "    <tr>\n",
       "      <th>6</th>\n",
       "      <td>DB7N5D9300JEP8488</td>\n",
       "      <td>Laura Harris</td>\n",
       "      <td>reyeskaren@example.org</td>\n",
       "      <td>GOOG</td>\n",
       "      <td>Google</td>\n",
       "    </tr>\n",
       "    <tr>\n",
       "      <th>7</th>\n",
       "      <td>8ER3T0DV3X9XCSZTG</td>\n",
       "      <td>Felicia Davis</td>\n",
       "      <td>langmatthew@example.com</td>\n",
       "      <td>GOOG</td>\n",
       "      <td>Google</td>\n",
       "    </tr>\n",
       "    <tr>\n",
       "      <th>8</th>\n",
       "      <td>0EY1P0RF6MBLRLK24</td>\n",
       "      <td>Morgan Griffin</td>\n",
       "      <td>kelly36@example.com</td>\n",
       "      <td>GOOG</td>\n",
       "      <td>Google</td>\n",
       "    </tr>\n",
       "  </tbody>\n",
       "</table>\n",
       "</div>"
      ],
      "text/plain": [
       "             User ID            name                     email  dept dept_name\n",
       "1  M7H0N6B55GG62ESX4    Teresa Young    sararangel@example.com  GOOG    Google\n",
       "4  DT1HWZE13XSCFUD2R   Andrew Martin  lesliepotter@example.com  GOOG    Google\n",
       "6  DB7N5D9300JEP8488    Laura Harris    reyeskaren@example.org  GOOG    Google\n",
       "7  8ER3T0DV3X9XCSZTG   Felicia Davis   langmatthew@example.com  GOOG    Google\n",
       "8  0EY1P0RF6MBLRLK24  Morgan Griffin       kelly36@example.com  GOOG    Google"
      ]
     },
     "execution_count": 71,
     "metadata": {},
     "output_type": "execute_result"
    }
   ],
   "source": [
    "# create fake hr data\n",
    "# we will randomly select 200 staffs and make them resign from the company\n",
    "\n",
    "new6 = []\n",
    "\n",
    "for i in range(0, 200):\n",
    "    new6.append(randrange(1000))\n",
    "    \n",
    "hr_data = data.drop(index = new6)\n",
    "hr_data.head()"
   ]
  },
  {
   "cell_type": "code",
   "execution_count": 72,
   "metadata": {},
   "outputs": [
    {
     "data": {
      "text/plain": [
       "(819, 5)"
      ]
     },
     "execution_count": 72,
     "metadata": {},
     "output_type": "execute_result"
    }
   ],
   "source": [
    "hr_data.shape"
   ]
  },
  {
   "cell_type": "code",
   "execution_count": 73,
   "metadata": {},
   "outputs": [],
   "source": [
    "hr_data.columns = ['LAN ID', 'Fullname', 'Email', 'Dept', 'Department']"
   ]
  },
  {
   "cell_type": "code",
   "execution_count": 74,
   "metadata": {},
   "outputs": [],
   "source": [
    "hr_data.to_excel('data/fake_hr_data.xlsx', index=False)"
   ]
  },
  {
   "cell_type": "code",
   "execution_count": 75,
   "metadata": {},
   "outputs": [
    {
     "data": {
      "text/plain": [
       "LAN ID\n",
       "True    819\n",
       "Name: count, dtype: int64"
      ]
     },
     "execution_count": 75,
     "metadata": {},
     "output_type": "execute_result"
    }
   ],
   "source": [
    "# we want to check the difference between hr data and data\n",
    "# we will use the id to check the difference\n",
    "hr_data.reset_index(drop=True, inplace=True)\n",
    "hr_data['LAN ID'].isin(data['User ID']).value_counts()"
   ]
  },
  {
   "cell_type": "code",
   "execution_count": null,
   "metadata": {},
   "outputs": [],
   "source": []
  }
 ],
 "metadata": {
  "kernelspec": {
   "display_name": "Python 3",
   "language": "python",
   "name": "python3"
  },
  "language_info": {
   "codemirror_mode": {
    "name": "ipython",
    "version": 3
   },
   "file_extension": ".py",
   "mimetype": "text/x-python",
   "name": "python",
   "nbconvert_exporter": "python",
   "pygments_lexer": "ipython3",
   "version": "3.11.4"
  },
  "orig_nbformat": 4
 },
 "nbformat": 4,
 "nbformat_minor": 2
}
