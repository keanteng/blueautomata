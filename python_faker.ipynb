{
 "cells": [
  {
   "cell_type": "code",
   "execution_count": 38,
   "metadata": {},
   "outputs": [],
   "source": [
    "from faker import Faker\n",
    "import pandas as pd"
   ]
  },
  {
   "cell_type": "code",
   "execution_count": 39,
   "metadata": {},
   "outputs": [],
   "source": [
    "fake = Faker()\n",
    "dept = ['GOOG', 'AAPL', 'MSFT', 'AMZN', 'FB', 'INSTA', 'AIRBNB', 'UBER', 'LYFT', 'TWTR', 'TSLA', 'NFLX', 'SPOT', 'SNAP', 'PINS', 'ZM', 'WORK', 'SQ', 'SHOP', 'BYND']\n",
    "dept_name = ['Google', 'Apple', 'Microsoft', 'Amazon', 'Facebook', 'Instagram', 'Airbnb', 'Uber', 'Lyft', 'Twitter', 'Tesla', 'Netflix', 'Spotify', 'Snapchat', 'Pinterest', 'Zoom', 'Slack', 'Square', 'Shopify', 'Beyond Meat']\n",
    "\n",
    "# generate fake name\n",
    "new = [None] * 1000\n",
    "\n",
    "for i in range(0, 1000):\n",
    "    new[i] = fake.name()\n",
    "    \n",
    "# genearte fake email\n",
    "new1 = [None] * 1000\n",
    "\n",
    "for i in range(0, 1000):\n",
    "    new1[i] = fake.email()\n",
    "    \n",
    "# create fake department\n",
    "new2 = [None] * 1000\n",
    "new3 = [None] * 1000\n",
    "\n",
    "for i in range(0, 1000):\n",
    "    if i <= 50:\n",
    "        new2[i] = dept[0]\n",
    "        new3[i] = dept_name[0]\n",
    "    elif i <= 100:\n",
    "        new2[i] = dept[1]\n",
    "        new3[i] = dept_name[1]\n",
    "    elif i <= 150:\n",
    "        new2[i] = dept[2]\n",
    "        new3[i] = dept_name[2]\n",
    "    elif i <= 200:\n",
    "        new2[i] = dept[3]\n",
    "        new3[i] = dept_name[3]\n",
    "    elif i <= 250:\n",
    "        new2[i] = dept[4]\n",
    "        new3[i] = dept_name[4]\n",
    "    elif i <= 300:\n",
    "        new2[i] = dept[5]\n",
    "        new3[i] = dept_name[5]\n",
    "    elif i <= 350:\n",
    "        new2[i] = dept[6]\n",
    "        new3[i] = dept_name[6]\n",
    "    elif i <= 400:\n",
    "        new2[i] = dept[7]\n",
    "        new3[i] = dept_name[7]\n",
    "    elif i <= 450:\n",
    "        new2[i] = dept[8]\n",
    "        new3[i] = dept_name[8]\n",
    "    elif i <= 500:\n",
    "        new2[i] = dept[9]\n",
    "        new3[i] = dept_name[9]\n",
    "    elif i <= 550:\n",
    "        new2[i] = dept[10]\n",
    "        new3[i] = dept_name[10]\n",
    "    elif i <= 600:\n",
    "        new2[i] = dept[11]\n",
    "        new3[i] = dept_name[11]\n",
    "    elif i <= 650:\n",
    "        new2[i] = dept[12]\n",
    "        new3[i] = dept_name[12]\n",
    "    elif i <= 700:\n",
    "        new2[i] = dept[13]\n",
    "        new3[i] = dept_name[13]\n",
    "    elif i <= 750:\n",
    "        new2[i] = dept[14]\n",
    "        new3[i] = dept_name[14]\n",
    "    elif i <= 800:\n",
    "        new2[i] = dept[15]\n",
    "        new3[i] = dept_name[15]\n",
    "    elif i <= 850:\n",
    "        new2[i] = dept[16]\n",
    "        new3[i] = dept_name[16]\n",
    "    elif i <= 900:\n",
    "        new2[i] = dept[17]\n",
    "        new3[i] = dept_name[17]\n",
    "    elif i <= 950:\n",
    "        new2[i] = dept[18]\n",
    "        new3[i] = dept_name[18]\n",
    "    else:\n",
    "        new2[i] = dept[19]\n",
    "        new3[i] = dept_name[19]\n",
    "        \n",
    "# create fake id\n",
    "new4 = [None] * 1000\n",
    "\n",
    "for i in range(0, 1000):\n",
    "    new4[i] = fake.vin()"
   ]
  },
  {
   "cell_type": "code",
   "execution_count": 40,
   "metadata": {},
   "outputs": [
    {
     "data": {
      "text/html": [
       "<div>\n",
       "<style scoped>\n",
       "    .dataframe tbody tr th:only-of-type {\n",
       "        vertical-align: middle;\n",
       "    }\n",
       "\n",
       "    .dataframe tbody tr th {\n",
       "        vertical-align: top;\n",
       "    }\n",
       "\n",
       "    .dataframe thead th {\n",
       "        text-align: right;\n",
       "    }\n",
       "</style>\n",
       "<table border=\"1\" class=\"dataframe\">\n",
       "  <thead>\n",
       "    <tr style=\"text-align: right;\">\n",
       "      <th></th>\n",
       "      <th>id</th>\n",
       "      <th>name</th>\n",
       "      <th>email</th>\n",
       "      <th>dept</th>\n",
       "      <th>dept_name</th>\n",
       "    </tr>\n",
       "  </thead>\n",
       "  <tbody>\n",
       "    <tr>\n",
       "      <th>0</th>\n",
       "      <td>8VC7CRX47MVSZW2XE</td>\n",
       "      <td>Alexander Huber</td>\n",
       "      <td>vmaldonado@example.net</td>\n",
       "      <td>GOOG</td>\n",
       "      <td>Google</td>\n",
       "    </tr>\n",
       "    <tr>\n",
       "      <th>1</th>\n",
       "      <td>8WTYAKK88X2K665C1</td>\n",
       "      <td>Laura Thompson</td>\n",
       "      <td>caitlin98@example.org</td>\n",
       "      <td>GOOG</td>\n",
       "      <td>Google</td>\n",
       "    </tr>\n",
       "    <tr>\n",
       "      <th>2</th>\n",
       "      <td>W5D3ZLSY6U048CJSG</td>\n",
       "      <td>Rhonda Roberts</td>\n",
       "      <td>weeksdillon@example.org</td>\n",
       "      <td>GOOG</td>\n",
       "      <td>Google</td>\n",
       "    </tr>\n",
       "    <tr>\n",
       "      <th>3</th>\n",
       "      <td>LB1YLAX90GRX204CY</td>\n",
       "      <td>Cameron Austin</td>\n",
       "      <td>elijahwilliamson@example.com</td>\n",
       "      <td>GOOG</td>\n",
       "      <td>Google</td>\n",
       "    </tr>\n",
       "    <tr>\n",
       "      <th>4</th>\n",
       "      <td>H6CDSARM6NUEELBC2</td>\n",
       "      <td>Brad Evans</td>\n",
       "      <td>wilsonjay@example.com</td>\n",
       "      <td>GOOG</td>\n",
       "      <td>Google</td>\n",
       "    </tr>\n",
       "  </tbody>\n",
       "</table>\n",
       "</div>"
      ],
      "text/plain": [
       "                  id             name                         email  dept  \\\n",
       "0  8VC7CRX47MVSZW2XE  Alexander Huber        vmaldonado@example.net  GOOG   \n",
       "1  8WTYAKK88X2K665C1   Laura Thompson         caitlin98@example.org  GOOG   \n",
       "2  W5D3ZLSY6U048CJSG   Rhonda Roberts       weeksdillon@example.org  GOOG   \n",
       "3  LB1YLAX90GRX204CY   Cameron Austin  elijahwilliamson@example.com  GOOG   \n",
       "4  H6CDSARM6NUEELBC2       Brad Evans         wilsonjay@example.com  GOOG   \n",
       "\n",
       "  dept_name  \n",
       "0    Google  \n",
       "1    Google  \n",
       "2    Google  \n",
       "3    Google  \n",
       "4    Google  "
      ]
     },
     "execution_count": 40,
     "metadata": {},
     "output_type": "execute_result"
    }
   ],
   "source": [
    "data = pd.DataFrame({'id': new4, 'name': new, 'email': new1, 'dept': new2, 'dept_name': new3})\n",
    "data.head()"
   ]
  },
  {
   "cell_type": "code",
   "execution_count": 41,
   "metadata": {},
   "outputs": [
    {
     "data": {
      "text/plain": [
       "(1000, 5)"
      ]
     },
     "execution_count": 41,
     "metadata": {},
     "output_type": "execute_result"
    }
   ],
   "source": [
    "data.shape"
   ]
  },
  {
   "cell_type": "code",
   "execution_count": 42,
   "metadata": {},
   "outputs": [],
   "source": [
    "# create fake system access\n",
    "\n",
    "system = ['KLSE', 'NASDAQ', 'NYSE', 'SGX', 'HKEX', 'LSE', 'TSE', 'SSE', 'BSE', 'ASX', 'JSE', 'BME', 'FWB', 'BIST', 'B3', 'MOEX', 'TWSE', 'BVL', 'IDX', 'SET']\n",
    "\n",
    "from random import randrange\n",
    "\n",
    "new5 = []\n",
    "id = []\n",
    "name = []\n",
    "email = []\n",
    "dept = []\n",
    "dept_name = []\n",
    "\n",
    "for i in range(0, len(data)):\n",
    "    key = randrange(10)\n",
    "    for j in range(0, key):\n",
    "        new5.append(system[j])\n",
    "        id.append(data['id'][i])\n",
    "        name.append(data['name'][i])\n",
    "        email.append(data['email'][i])\n",
    "        dept.append(data['dept'][i])\n",
    "        dept_name.append(data['dept_name'][i])"
   ]
  },
  {
   "cell_type": "code",
   "execution_count": 43,
   "metadata": {},
   "outputs": [
    {
     "data": {
      "text/html": [
       "<div>\n",
       "<style scoped>\n",
       "    .dataframe tbody tr th:only-of-type {\n",
       "        vertical-align: middle;\n",
       "    }\n",
       "\n",
       "    .dataframe tbody tr th {\n",
       "        vertical-align: top;\n",
       "    }\n",
       "\n",
       "    .dataframe thead th {\n",
       "        text-align: right;\n",
       "    }\n",
       "</style>\n",
       "<table border=\"1\" class=\"dataframe\">\n",
       "  <thead>\n",
       "    <tr style=\"text-align: right;\">\n",
       "      <th></th>\n",
       "      <th>id</th>\n",
       "      <th>name</th>\n",
       "      <th>email</th>\n",
       "      <th>dept</th>\n",
       "      <th>system</th>\n",
       "      <th>dept_name</th>\n",
       "    </tr>\n",
       "  </thead>\n",
       "  <tbody>\n",
       "    <tr>\n",
       "      <th>0</th>\n",
       "      <td>8VC7CRX47MVSZW2XE</td>\n",
       "      <td>Alexander Huber</td>\n",
       "      <td>vmaldonado@example.net</td>\n",
       "      <td>GOOG</td>\n",
       "      <td>KLSE</td>\n",
       "      <td>Google</td>\n",
       "    </tr>\n",
       "    <tr>\n",
       "      <th>1</th>\n",
       "      <td>8VC7CRX47MVSZW2XE</td>\n",
       "      <td>Alexander Huber</td>\n",
       "      <td>vmaldonado@example.net</td>\n",
       "      <td>GOOG</td>\n",
       "      <td>NASDAQ</td>\n",
       "      <td>Google</td>\n",
       "    </tr>\n",
       "    <tr>\n",
       "      <th>2</th>\n",
       "      <td>8WTYAKK88X2K665C1</td>\n",
       "      <td>Laura Thompson</td>\n",
       "      <td>caitlin98@example.org</td>\n",
       "      <td>GOOG</td>\n",
       "      <td>KLSE</td>\n",
       "      <td>Google</td>\n",
       "    </tr>\n",
       "    <tr>\n",
       "      <th>3</th>\n",
       "      <td>8WTYAKK88X2K665C1</td>\n",
       "      <td>Laura Thompson</td>\n",
       "      <td>caitlin98@example.org</td>\n",
       "      <td>GOOG</td>\n",
       "      <td>NASDAQ</td>\n",
       "      <td>Google</td>\n",
       "    </tr>\n",
       "    <tr>\n",
       "      <th>4</th>\n",
       "      <td>8WTYAKK88X2K665C1</td>\n",
       "      <td>Laura Thompson</td>\n",
       "      <td>caitlin98@example.org</td>\n",
       "      <td>GOOG</td>\n",
       "      <td>NYSE</td>\n",
       "      <td>Google</td>\n",
       "    </tr>\n",
       "  </tbody>\n",
       "</table>\n",
       "</div>"
      ],
      "text/plain": [
       "                  id             name                   email  dept  system  \\\n",
       "0  8VC7CRX47MVSZW2XE  Alexander Huber  vmaldonado@example.net  GOOG    KLSE   \n",
       "1  8VC7CRX47MVSZW2XE  Alexander Huber  vmaldonado@example.net  GOOG  NASDAQ   \n",
       "2  8WTYAKK88X2K665C1   Laura Thompson   caitlin98@example.org  GOOG    KLSE   \n",
       "3  8WTYAKK88X2K665C1   Laura Thompson   caitlin98@example.org  GOOG  NASDAQ   \n",
       "4  8WTYAKK88X2K665C1   Laura Thompson   caitlin98@example.org  GOOG    NYSE   \n",
       "\n",
       "  dept_name  \n",
       "0    Google  \n",
       "1    Google  \n",
       "2    Google  \n",
       "3    Google  \n",
       "4    Google  "
      ]
     },
     "execution_count": 43,
     "metadata": {},
     "output_type": "execute_result"
    }
   ],
   "source": [
    "df = pd.DataFrame({'id': id, 'name': name, 'email': email, 'dept': dept, 'system': new5, 'dept_name': dept_name})\n",
    "df = df.dropna()\n",
    "df.head()"
   ]
  },
  {
   "cell_type": "code",
   "execution_count": 44,
   "metadata": {},
   "outputs": [
    {
     "name": "stdout",
     "output_type": "stream",
     "text": [
      "(4619, 6)\n"
     ]
    }
   ],
   "source": [
    "print(df.shape)"
   ]
  },
  {
   "cell_type": "code",
   "execution_count": 45,
   "metadata": {},
   "outputs": [],
   "source": [
    "df.to_csv('fakedata.csv', index=False)"
   ]
  },
  {
   "cell_type": "code",
   "execution_count": 46,
   "metadata": {},
   "outputs": [
    {
     "data": {
      "text/html": [
       "<div>\n",
       "<style scoped>\n",
       "    .dataframe tbody tr th:only-of-type {\n",
       "        vertical-align: middle;\n",
       "    }\n",
       "\n",
       "    .dataframe tbody tr th {\n",
       "        vertical-align: top;\n",
       "    }\n",
       "\n",
       "    .dataframe thead th {\n",
       "        text-align: right;\n",
       "    }\n",
       "</style>\n",
       "<table border=\"1\" class=\"dataframe\">\n",
       "  <thead>\n",
       "    <tr style=\"text-align: right;\">\n",
       "      <th></th>\n",
       "      <th>id</th>\n",
       "      <th>name</th>\n",
       "      <th>email</th>\n",
       "      <th>dept</th>\n",
       "      <th>dept_name</th>\n",
       "    </tr>\n",
       "  </thead>\n",
       "  <tbody>\n",
       "    <tr>\n",
       "      <th>0</th>\n",
       "      <td>8VC7CRX47MVSZW2XE</td>\n",
       "      <td>Alexander Huber</td>\n",
       "      <td>vmaldonado@example.net</td>\n",
       "      <td>GOOG</td>\n",
       "      <td>Google</td>\n",
       "    </tr>\n",
       "    <tr>\n",
       "      <th>1</th>\n",
       "      <td>8WTYAKK88X2K665C1</td>\n",
       "      <td>Laura Thompson</td>\n",
       "      <td>caitlin98@example.org</td>\n",
       "      <td>GOOG</td>\n",
       "      <td>Google</td>\n",
       "    </tr>\n",
       "    <tr>\n",
       "      <th>2</th>\n",
       "      <td>W5D3ZLSY6U048CJSG</td>\n",
       "      <td>Rhonda Roberts</td>\n",
       "      <td>weeksdillon@example.org</td>\n",
       "      <td>GOOG</td>\n",
       "      <td>Google</td>\n",
       "    </tr>\n",
       "    <tr>\n",
       "      <th>3</th>\n",
       "      <td>LB1YLAX90GRX204CY</td>\n",
       "      <td>Cameron Austin</td>\n",
       "      <td>elijahwilliamson@example.com</td>\n",
       "      <td>GOOG</td>\n",
       "      <td>Google</td>\n",
       "    </tr>\n",
       "    <tr>\n",
       "      <th>4</th>\n",
       "      <td>H6CDSARM6NUEELBC2</td>\n",
       "      <td>Brad Evans</td>\n",
       "      <td>wilsonjay@example.com</td>\n",
       "      <td>GOOG</td>\n",
       "      <td>Google</td>\n",
       "    </tr>\n",
       "  </tbody>\n",
       "</table>\n",
       "</div>"
      ],
      "text/plain": [
       "                  id             name                         email  dept  \\\n",
       "0  8VC7CRX47MVSZW2XE  Alexander Huber        vmaldonado@example.net  GOOG   \n",
       "1  8WTYAKK88X2K665C1   Laura Thompson         caitlin98@example.org  GOOG   \n",
       "2  W5D3ZLSY6U048CJSG   Rhonda Roberts       weeksdillon@example.org  GOOG   \n",
       "3  LB1YLAX90GRX204CY   Cameron Austin  elijahwilliamson@example.com  GOOG   \n",
       "4  H6CDSARM6NUEELBC2       Brad Evans         wilsonjay@example.com  GOOG   \n",
       "\n",
       "  dept_name  \n",
       "0    Google  \n",
       "1    Google  \n",
       "2    Google  \n",
       "3    Google  \n",
       "4    Google  "
      ]
     },
     "execution_count": 46,
     "metadata": {},
     "output_type": "execute_result"
    }
   ],
   "source": [
    "# create fake hr data\n",
    "# we will randomly select 200 staffs and make them resign from the company\n",
    "\n",
    "new6 = []\n",
    "\n",
    "for i in range(0, 200):\n",
    "    new6.append(randrange(1000))\n",
    "    \n",
    "hr_data = data.drop(index = new6)\n",
    "hr_data.head()"
   ]
  },
  {
   "cell_type": "code",
   "execution_count": 47,
   "metadata": {},
   "outputs": [
    {
     "data": {
      "text/plain": [
       "(819, 5)"
      ]
     },
     "execution_count": 47,
     "metadata": {},
     "output_type": "execute_result"
    }
   ],
   "source": [
    "hr_data.shape"
   ]
  },
  {
   "cell_type": "code",
   "execution_count": 48,
   "metadata": {},
   "outputs": [],
   "source": [
    "hr_data.to_csv('fake_hr_data.csv', index=False)"
   ]
  },
  {
   "cell_type": "code",
   "execution_count": 49,
   "metadata": {},
   "outputs": [
    {
     "data": {
      "text/plain": [
       "id\n",
       "True    819\n",
       "Name: count, dtype: int64"
      ]
     },
     "execution_count": 49,
     "metadata": {},
     "output_type": "execute_result"
    }
   ],
   "source": [
    "# we want to check the difference between hr data and data\n",
    "# we will use the id to check the difference\n",
    "hr_data.reset_index(drop=True, inplace=True)\n",
    "hr_data['id'].isin(data['id']).value_counts()"
   ]
  }
 ],
 "metadata": {
  "kernelspec": {
   "display_name": "Python 3",
   "language": "python",
   "name": "python3"
  },
  "language_info": {
   "codemirror_mode": {
    "name": "ipython",
    "version": 3
   },
   "file_extension": ".py",
   "mimetype": "text/x-python",
   "name": "python",
   "nbconvert_exporter": "python",
   "pygments_lexer": "ipython3",
   "version": "3.11.4"
  },
  "orig_nbformat": 4
 },
 "nbformat": 4,
 "nbformat_minor": 2
}
