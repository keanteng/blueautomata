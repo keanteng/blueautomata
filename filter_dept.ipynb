{
 "cells": [
  {
   "cell_type": "code",
   "execution_count": 2,
   "metadata": {},
   "outputs": [],
   "source": [
    "import pandas as pd"
   ]
  },
  {
   "cell_type": "code",
   "execution_count": 4,
   "metadata": {},
   "outputs": [
    {
     "data": {
      "text/html": [
       "<div>\n",
       "<style scoped>\n",
       "    .dataframe tbody tr th:only-of-type {\n",
       "        vertical-align: middle;\n",
       "    }\n",
       "\n",
       "    .dataframe tbody tr th {\n",
       "        vertical-align: top;\n",
       "    }\n",
       "\n",
       "    .dataframe thead th {\n",
       "        text-align: right;\n",
       "    }\n",
       "</style>\n",
       "<table border=\"1\" class=\"dataframe\">\n",
       "  <thead>\n",
       "    <tr style=\"text-align: right;\">\n",
       "      <th></th>\n",
       "      <th>Department</th>\n",
       "      <th>Dept</th>\n",
       "      <th>User ID</th>\n",
       "      <th>Fullname</th>\n",
       "      <th>System1</th>\n",
       "      <th>Cube</th>\n",
       "    </tr>\n",
       "  </thead>\n",
       "  <tbody>\n",
       "    <tr>\n",
       "      <th>0</th>\n",
       "      <td>Google</td>\n",
       "      <td>GOOG</td>\n",
       "      <td>WN1ZKDTK5EWDFDWKG</td>\n",
       "      <td>Eric Blake</td>\n",
       "      <td>KLSE</td>\n",
       "      <td>791745.0</td>\n",
       "    </tr>\n",
       "    <tr>\n",
       "      <th>1</th>\n",
       "      <td>Google</td>\n",
       "      <td>GOOG</td>\n",
       "      <td>WN1ZKDTK5EWDFDWKG</td>\n",
       "      <td>Eric Blake</td>\n",
       "      <td>NASDAQ</td>\n",
       "      <td>692791.0</td>\n",
       "    </tr>\n",
       "    <tr>\n",
       "      <th>2</th>\n",
       "      <td>Google</td>\n",
       "      <td>GOOG</td>\n",
       "      <td>WN1ZKDTK5EWDFDWKG</td>\n",
       "      <td>Eric Blake</td>\n",
       "      <td>NYSE</td>\n",
       "      <td>568621.0</td>\n",
       "    </tr>\n",
       "    <tr>\n",
       "      <th>3</th>\n",
       "      <td>Google</td>\n",
       "      <td>GOOG</td>\n",
       "      <td>WN1ZKDTK5EWDFDWKG</td>\n",
       "      <td>Eric Blake</td>\n",
       "      <td>SGX</td>\n",
       "      <td>580051.0</td>\n",
       "    </tr>\n",
       "    <tr>\n",
       "      <th>4</th>\n",
       "      <td>Google</td>\n",
       "      <td>GOOG</td>\n",
       "      <td>M7H0N6B55GG62ESX4</td>\n",
       "      <td>Teresa Young</td>\n",
       "      <td>KLSE</td>\n",
       "      <td>476799.0</td>\n",
       "    </tr>\n",
       "  </tbody>\n",
       "</table>\n",
       "</div>"
      ],
      "text/plain": [
       "  Department  Dept            User ID      Fullname System1      Cube\n",
       "0     Google  GOOG  WN1ZKDTK5EWDFDWKG    Eric Blake    KLSE  791745.0\n",
       "1     Google  GOOG  WN1ZKDTK5EWDFDWKG    Eric Blake  NASDAQ  692791.0\n",
       "2     Google  GOOG  WN1ZKDTK5EWDFDWKG    Eric Blake    NYSE  568621.0\n",
       "3     Google  GOOG  WN1ZKDTK5EWDFDWKG    Eric Blake     SGX  580051.0\n",
       "4     Google  GOOG  M7H0N6B55GG62ESX4  Teresa Young    KLSE  476799.0"
      ]
     },
     "execution_count": 4,
     "metadata": {},
     "output_type": "execute_result"
    }
   ],
   "source": [
    "df = pd.read_excel('data/fakedata.xlsx')\n",
    "df.head()"
   ]
  },
  {
   "cell_type": "code",
   "execution_count": 5,
   "metadata": {},
   "outputs": [
    {
     "data": {
      "text/plain": [
       "array(['GOOG', 'AAPL', 'MSFT', 'AMZN', 'FB', 'INSTA', 'AIRBNB', 'UBER',\n",
       "       'LYFT', 'TWTR', 'TSLA', 'NFLX', 'SPOT', 'SNAP', 'PINS', 'ZM',\n",
       "       'WORK', 'SQ', 'SHOP', 'BYND'], dtype=object)"
      ]
     },
     "execution_count": 5,
     "metadata": {},
     "output_type": "execute_result"
    }
   ],
   "source": [
    "dept = df['Dept'].unique()\n",
    "dept"
   ]
  },
  {
   "cell_type": "code",
   "execution_count": 6,
   "metadata": {},
   "outputs": [
    {
     "data": {
      "text/plain": [
       "array(['Google', 'Apple', 'Microsoft', 'Amazon', 'Facebook', 'Instagram',\n",
       "       'Airbnb', 'Uber', 'Lyft', 'Twitter', 'Tesla', 'Netflix', 'Spotify',\n",
       "       'Snapchat', 'Pinterest', 'Zoom', 'Slack', 'Square', 'Shopify',\n",
       "       'Beyond Meat'], dtype=object)"
      ]
     },
     "execution_count": 6,
     "metadata": {},
     "output_type": "execute_result"
    }
   ],
   "source": [
    "dept_name = df['Department'].unique()\n",
    "dept_name"
   ]
  },
  {
   "cell_type": "code",
   "execution_count": 7,
   "metadata": {},
   "outputs": [],
   "source": [
    "# checklist.to_excel('data/checklist.xlsx', index=False)\n",
    "# checklist = pd.DataFrame(...)"
   ]
  },
  {
   "cell_type": "code",
   "execution_count": 9,
   "metadata": {},
   "outputs": [],
   "source": [
    "for i in range(0, len(dept)):\n",
    "    # filter the dataframe by dept\n",
    "    filter = df[df['Department'] == dept_name[i]]\n",
    "    # name the file using department code\n",
    "    dept_code = dept[i]\n",
    "    # export the file\n",
    "    filter.to_excel('data/fakecsv/dept_' + dept_code + '.xlsx', index=False)"
   ]
  },
  {
   "cell_type": "code",
   "execution_count": 11,
   "metadata": {},
   "outputs": [],
   "source": [
    "# generate fake system data\n",
    "system = df['System1'].unique()\n",
    "\n",
    "for i in range(0, len(system)):\n",
    "    # filter the dataframe by dept\n",
    "    filter = df[df['System1'] == system[i]]\n",
    "    # name the file using department code\n",
    "    sys_code = system[i]\n",
    "    # export the file\n",
    "    filter.to_excel('data/fakesystem/sys_' + sys_code + '.xlsx', index=False)"
   ]
  },
  {
   "cell_type": "markdown",
   "metadata": {},
   "source": [
    "Done testing, works well\n",
    "- Next step is to scale with dept and dept_code"
   ]
  }
 ],
 "metadata": {
  "kernelspec": {
   "display_name": "Python 3",
   "language": "python",
   "name": "python3"
  },
  "language_info": {
   "codemirror_mode": {
    "name": "ipython",
    "version": 3
   },
   "file_extension": ".py",
   "mimetype": "text/x-python",
   "name": "python",
   "nbconvert_exporter": "python",
   "pygments_lexer": "ipython3",
   "version": "3.11.4"
  },
  "orig_nbformat": 4
 },
 "nbformat": 4,
 "nbformat_minor": 2
}
