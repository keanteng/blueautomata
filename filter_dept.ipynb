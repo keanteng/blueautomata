{
 "cells": [
  {
   "cell_type": "code",
   "execution_count": 1,
   "metadata": {},
   "outputs": [],
   "source": [
    "import pandas as pd"
   ]
  },
  {
   "cell_type": "code",
   "execution_count": 2,
   "metadata": {},
   "outputs": [
    {
     "data": {
      "text/html": [
       "<div>\n",
       "<style scoped>\n",
       "    .dataframe tbody tr th:only-of-type {\n",
       "        vertical-align: middle;\n",
       "    }\n",
       "\n",
       "    .dataframe tbody tr th {\n",
       "        vertical-align: top;\n",
       "    }\n",
       "\n",
       "    .dataframe thead th {\n",
       "        text-align: right;\n",
       "    }\n",
       "</style>\n",
       "<table border=\"1\" class=\"dataframe\">\n",
       "  <thead>\n",
       "    <tr style=\"text-align: right;\">\n",
       "      <th></th>\n",
       "      <th>Department</th>\n",
       "      <th>Dept</th>\n",
       "      <th>User ID</th>\n",
       "      <th>Name</th>\n",
       "      <th>System1</th>\n",
       "      <th>Cube</th>\n",
       "    </tr>\n",
       "  </thead>\n",
       "  <tbody>\n",
       "    <tr>\n",
       "      <th>0</th>\n",
       "      <td>Google</td>\n",
       "      <td>GOOG</td>\n",
       "      <td>R2J0PNN64H944P26B</td>\n",
       "      <td>Vanessa Sanchez</td>\n",
       "      <td>KLSE</td>\n",
       "      <td>979154.0</td>\n",
       "    </tr>\n",
       "    <tr>\n",
       "      <th>1</th>\n",
       "      <td>Google</td>\n",
       "      <td>GOOG</td>\n",
       "      <td>R2J0PNN64H944P26B</td>\n",
       "      <td>Vanessa Sanchez</td>\n",
       "      <td>NASDAQ</td>\n",
       "      <td>969122.0</td>\n",
       "    </tr>\n",
       "    <tr>\n",
       "      <th>2</th>\n",
       "      <td>Google</td>\n",
       "      <td>GOOG</td>\n",
       "      <td>95F33XSJ5HEK4WCMX</td>\n",
       "      <td>Jordan Harris</td>\n",
       "      <td>KLSE</td>\n",
       "      <td>251175.0</td>\n",
       "    </tr>\n",
       "    <tr>\n",
       "      <th>3</th>\n",
       "      <td>Google</td>\n",
       "      <td>GOOG</td>\n",
       "      <td>95F33XSJ5HEK4WCMX</td>\n",
       "      <td>Jordan Harris</td>\n",
       "      <td>NASDAQ</td>\n",
       "      <td>676021.0</td>\n",
       "    </tr>\n",
       "    <tr>\n",
       "      <th>4</th>\n",
       "      <td>Google</td>\n",
       "      <td>GOOG</td>\n",
       "      <td>95F33XSJ5HEK4WCMX</td>\n",
       "      <td>Jordan Harris</td>\n",
       "      <td>NYSE</td>\n",
       "      <td>927516.0</td>\n",
       "    </tr>\n",
       "  </tbody>\n",
       "</table>\n",
       "</div>"
      ],
      "text/plain": [
       "  Department  Dept            User ID             Name System1      Cube\n",
       "0     Google  GOOG  R2J0PNN64H944P26B  Vanessa Sanchez    KLSE  979154.0\n",
       "1     Google  GOOG  R2J0PNN64H944P26B  Vanessa Sanchez  NASDAQ  969122.0\n",
       "2     Google  GOOG  95F33XSJ5HEK4WCMX    Jordan Harris    KLSE  251175.0\n",
       "3     Google  GOOG  95F33XSJ5HEK4WCMX    Jordan Harris  NASDAQ  676021.0\n",
       "4     Google  GOOG  95F33XSJ5HEK4WCMX    Jordan Harris    NYSE  927516.0"
      ]
     },
     "execution_count": 2,
     "metadata": {},
     "output_type": "execute_result"
    }
   ],
   "source": [
    "df = pd.read_excel('data/fakedata.xlsx')\n",
    "df.head()"
   ]
  },
  {
   "cell_type": "code",
   "execution_count": 3,
   "metadata": {},
   "outputs": [
    {
     "data": {
      "text/plain": [
       "array(['GOOG', 'AAPL', 'MSFT', 'AMZN', 'FB', 'INSTA', 'AIRBNB', 'UBER',\n",
       "       'LYFT', 'TWTR', 'TSLA', 'NFLX', 'SPOT', 'SNAP', 'PINS', 'ZM',\n",
       "       'WORK', 'SQ', 'SHOP', 'BYND'], dtype=object)"
      ]
     },
     "execution_count": 3,
     "metadata": {},
     "output_type": "execute_result"
    }
   ],
   "source": [
    "dept = df['Dept'].unique()\n",
    "dept"
   ]
  },
  {
   "cell_type": "code",
   "execution_count": 4,
   "metadata": {},
   "outputs": [
    {
     "data": {
      "text/plain": [
       "array(['Google', 'Apple', 'Microsoft', 'Amazon', 'Facebook', 'Instagram',\n",
       "       'Airbnb', 'Uber', 'Lyft', 'Twitter', 'Tesla', 'Netflix', 'Spotify',\n",
       "       'Snapchat', 'Pinterest', 'Zoom', 'Slack', 'Square', 'Shopify',\n",
       "       'Beyond Meat'], dtype=object)"
      ]
     },
     "execution_count": 4,
     "metadata": {},
     "output_type": "execute_result"
    }
   ],
   "source": [
    "dept_name = df['Department'].unique()\n",
    "dept_name"
   ]
  },
  {
   "cell_type": "code",
   "execution_count": 5,
   "metadata": {},
   "outputs": [],
   "source": [
    "# checklist.to_excel('data/checklist.xlsx', index=False)\n",
    "# checklist = pd.DataFrame(...)"
   ]
  },
  {
   "cell_type": "code",
   "execution_count": 6,
   "metadata": {},
   "outputs": [],
   "source": [
    "for i in range(0, len(dept)):\n",
    "    # filter the dataframe by dept\n",
    "    filter = df[df['Department'] == dept_name[i]]\n",
    "    # name the file using department code\n",
    "    dept_code = dept[i]\n",
    "    # export the file\n",
    "    filter.to_excel('data/fakecsv/dept_' + dept_code + '.xlsx', index=False)"
   ]
  },
  {
   "cell_type": "code",
   "execution_count": 7,
   "metadata": {},
   "outputs": [],
   "source": [
    "# generate fake system data\n",
    "system = df['System1'].unique()\n",
    "\n",
    "for i in range(0, len(system)):\n",
    "    # filter the dataframe by dept\n",
    "    filter = df[df['System1'] == system[i]]\n",
    "    # name the file using department code\n",
    "    sys_code = system[i]\n",
    "    # export the file\n",
    "    filter.to_excel('data/fakesystem/sys_' + sys_code + '.xlsx', sheet_name = sys_code, index=False)"
   ]
  },
  {
   "cell_type": "markdown",
   "metadata": {},
   "source": [
    "Done testing, works well\n",
    "- Next step is to scale with dept and dept_code"
   ]
  }
 ],
 "metadata": {
  "kernelspec": {
   "display_name": "Python 3",
   "language": "python",
   "name": "python3"
  },
  "language_info": {
   "codemirror_mode": {
    "name": "ipython",
    "version": 3
   },
   "file_extension": ".py",
   "mimetype": "text/x-python",
   "name": "python",
   "nbconvert_exporter": "python",
   "pygments_lexer": "ipython3",
   "version": "3.11.4"
  },
  "orig_nbformat": 4
 },
 "nbformat": 4,
 "nbformat_minor": 2
}
