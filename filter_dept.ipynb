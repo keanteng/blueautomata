{
 "cells": [
  {
   "cell_type": "code",
   "execution_count": 14,
   "metadata": {},
   "outputs": [],
   "source": [
    "import pandas as pd"
   ]
  },
  {
   "cell_type": "code",
   "execution_count": 15,
   "metadata": {},
   "outputs": [
    {
     "data": {
      "text/html": [
       "<div>\n",
       "<style scoped>\n",
       "    .dataframe tbody tr th:only-of-type {\n",
       "        vertical-align: middle;\n",
       "    }\n",
       "\n",
       "    .dataframe tbody tr th {\n",
       "        vertical-align: top;\n",
       "    }\n",
       "\n",
       "    .dataframe thead th {\n",
       "        text-align: right;\n",
       "    }\n",
       "</style>\n",
       "<table border=\"1\" class=\"dataframe\">\n",
       "  <thead>\n",
       "    <tr style=\"text-align: right;\">\n",
       "      <th></th>\n",
       "      <th>id</th>\n",
       "      <th>name</th>\n",
       "      <th>email</th>\n",
       "      <th>dept</th>\n",
       "      <th>system</th>\n",
       "      <th>dept_name</th>\n",
       "    </tr>\n",
       "  </thead>\n",
       "  <tbody>\n",
       "    <tr>\n",
       "      <th>0</th>\n",
       "      <td>8VC7CRX47MVSZW2XE</td>\n",
       "      <td>Alexander Huber</td>\n",
       "      <td>vmaldonado@example.net</td>\n",
       "      <td>GOOG</td>\n",
       "      <td>KLSE</td>\n",
       "      <td>Google</td>\n",
       "    </tr>\n",
       "    <tr>\n",
       "      <th>1</th>\n",
       "      <td>8VC7CRX47MVSZW2XE</td>\n",
       "      <td>Alexander Huber</td>\n",
       "      <td>vmaldonado@example.net</td>\n",
       "      <td>GOOG</td>\n",
       "      <td>NASDAQ</td>\n",
       "      <td>Google</td>\n",
       "    </tr>\n",
       "    <tr>\n",
       "      <th>2</th>\n",
       "      <td>8WTYAKK88X2K665C1</td>\n",
       "      <td>Laura Thompson</td>\n",
       "      <td>caitlin98@example.org</td>\n",
       "      <td>GOOG</td>\n",
       "      <td>KLSE</td>\n",
       "      <td>Google</td>\n",
       "    </tr>\n",
       "    <tr>\n",
       "      <th>3</th>\n",
       "      <td>8WTYAKK88X2K665C1</td>\n",
       "      <td>Laura Thompson</td>\n",
       "      <td>caitlin98@example.org</td>\n",
       "      <td>GOOG</td>\n",
       "      <td>NASDAQ</td>\n",
       "      <td>Google</td>\n",
       "    </tr>\n",
       "    <tr>\n",
       "      <th>4</th>\n",
       "      <td>8WTYAKK88X2K665C1</td>\n",
       "      <td>Laura Thompson</td>\n",
       "      <td>caitlin98@example.org</td>\n",
       "      <td>GOOG</td>\n",
       "      <td>NYSE</td>\n",
       "      <td>Google</td>\n",
       "    </tr>\n",
       "  </tbody>\n",
       "</table>\n",
       "</div>"
      ],
      "text/plain": [
       "                  id             name                   email  dept  system  \\\n",
       "0  8VC7CRX47MVSZW2XE  Alexander Huber  vmaldonado@example.net  GOOG    KLSE   \n",
       "1  8VC7CRX47MVSZW2XE  Alexander Huber  vmaldonado@example.net  GOOG  NASDAQ   \n",
       "2  8WTYAKK88X2K665C1   Laura Thompson   caitlin98@example.org  GOOG    KLSE   \n",
       "3  8WTYAKK88X2K665C1   Laura Thompson   caitlin98@example.org  GOOG  NASDAQ   \n",
       "4  8WTYAKK88X2K665C1   Laura Thompson   caitlin98@example.org  GOOG    NYSE   \n",
       "\n",
       "  dept_name  \n",
       "0    Google  \n",
       "1    Google  \n",
       "2    Google  \n",
       "3    Google  \n",
       "4    Google  "
      ]
     },
     "execution_count": 15,
     "metadata": {},
     "output_type": "execute_result"
    }
   ],
   "source": [
    "df = pd.read_csv('data/fakedata.csv')\n",
    "df.head()"
   ]
  },
  {
   "cell_type": "code",
   "execution_count": 16,
   "metadata": {},
   "outputs": [
    {
     "data": {
      "text/plain": [
       "array(['GOOG', 'AAPL', 'MSFT', 'AMZN', 'FB', 'INSTA', 'AIRBNB', 'UBER',\n",
       "       'LYFT', 'TWTR', 'TSLA', 'NFLX', 'SPOT', 'SNAP', 'PINS', 'ZM',\n",
       "       'WORK', 'SQ', 'SHOP', 'BYND'], dtype=object)"
      ]
     },
     "execution_count": 16,
     "metadata": {},
     "output_type": "execute_result"
    }
   ],
   "source": [
    "dept = df['dept'].unique()\n",
    "dept"
   ]
  },
  {
   "cell_type": "code",
   "execution_count": 17,
   "metadata": {},
   "outputs": [
    {
     "data": {
      "text/plain": [
       "array(['Google', 'Apple', 'Microsoft', 'Amazon', 'Facebook', 'Instagram',\n",
       "       'Airbnb', 'Uber', 'Lyft', 'Twitter', 'Tesla', 'Netflix', 'Spotify',\n",
       "       'Snapchat', 'Pinterest', 'Zoom', 'Slack', 'Square', 'Shopify',\n",
       "       'Beyond Meat'], dtype=object)"
      ]
     },
     "execution_count": 17,
     "metadata": {},
     "output_type": "execute_result"
    }
   ],
   "source": [
    "dept_name = df['dept_name'].unique()\n",
    "dept_name"
   ]
  },
  {
   "cell_type": "code",
   "execution_count": 18,
   "metadata": {},
   "outputs": [],
   "source": [
    "for i in range(0, len(dept)):\n",
    "    # filter the dataframe by dept\n",
    "    filter = df[df['dept_name'] == dept_name[i]]\n",
    "    # name the file using department code\n",
    "    dept_code = dept[i]\n",
    "    # export the file\n",
    "    filter.to_csv('data/fakecsv/dept_' + dept_code + '.csv', index=False)"
   ]
  },
  {
   "cell_type": "markdown",
   "metadata": {},
   "source": [
    "Done testing, works well\n",
    "- Next step is to scale with dept and dept_code"
   ]
  }
 ],
 "metadata": {
  "kernelspec": {
   "display_name": "Python 3",
   "language": "python",
   "name": "python3"
  },
  "language_info": {
   "codemirror_mode": {
    "name": "ipython",
    "version": 3
   },
   "file_extension": ".py",
   "mimetype": "text/x-python",
   "name": "python",
   "nbconvert_exporter": "python",
   "pygments_lexer": "ipython3",
   "version": "3.11.4"
  },
  "orig_nbformat": 4
 },
 "nbformat": 4,
 "nbformat_minor": 2
}
